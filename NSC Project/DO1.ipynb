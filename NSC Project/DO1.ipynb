{
 "cells": [
  {
   "cell_type": "markdown",
   "id": "50d3d25c",
   "metadata": {},
   "source": [
    "# Part 0: Setup Data Owner 1\n",
    "First of all we need to establish a connection between the points. Using Duet we will establish an P2P connecton. DS will be able to perform remore execurion on the DOs's data on the DS's machine."
   ]
  },
  {
   "cell_type": "markdown",
   "id": "cd827134",
   "metadata": {},
   "source": [
    "### 0.1 Lauch the server\n",
    "Firstly we import PySyft and launch the duet. Than we send the code which will be displayed below(assuming that the url is known at the both sides) to the DS to establish the connection. This part can be sckiped if setting the parameter lookback to true on the both sides. "
   ]
  },
  {
   "cell_type": "code",
   "execution_count": 1,
   "id": "ad16a757",
   "metadata": {},
   "outputs": [
    {
     "name": "stdout",
     "output_type": "stream",
     "text": [
      "🎤  🎸  ♪♪♪ Starting Duet ♫♫♫  🎻  🎹\n",
      "\n",
      "♫♫♫ >\u001b[93m DISCLAIMER\u001b[0m: \u001b[1mDuet is an experimental feature currently in beta.\n",
      "♫♫♫ > Use at your own risk.\n",
      "\u001b[0m\n",
      "\u001b[1m\n",
      "    > ❤️ \u001b[91mLove\u001b[0m \u001b[92mDuet\u001b[0m? \u001b[93mPlease\u001b[0m \u001b[94mconsider\u001b[0m \u001b[95msupporting\u001b[0m \u001b[91mour\u001b[0m \u001b[93mcommunity!\u001b[0m\n",
      "    > https://github.com/sponsors/OpenMined\u001b[1m\n",
      "\n",
      "♫♫♫ > Punching through firewall to OpenGrid Network Node at:\n",
      "♫♫♫ > http://ec2-3-15-165-254.us-east-2.compute.amazonaws.com:5000\n",
      "♫♫♫ >\n",
      "♫♫♫ > ...waiting for response from OpenGrid Network... \n",
      "♫♫♫ > \u001b[92mDONE!\u001b[0m\n",
      "♫♫♫ > Duet Server ID: \u001b[1ma27c8bc011af31164a3e3d164d4e0190\u001b[0m\n",
      "\n",
      "♫♫♫ > \u001b[95mSTEP 1:\u001b[0m Send the following code to your Duet Partner!\n",
      "\n",
      "import syft as sy\n",
      "duet = sy.duet(\"\u001b[1ma27c8bc011af31164a3e3d164d4e0190\u001b[0m\")\n",
      "\n",
      "♫♫♫ > \u001b[95mSTEP 2:\u001b[0m Ask your partner for their Client ID and enter it below!\n",
      "♫♫♫ > Duet Partner's Client ID: 62ed5faa7d167002ba8cb23a665dc04d\n",
      "\n",
      "♫♫♫ > Connecting...\n",
      "\n",
      "♫♫♫ > \u001b[92mCONNECTED!\u001b[0m\n",
      "\n",
      "♫♫♫ > DUET LIVE STATUS  *  Objects: 11  Requests: 0   Messages: 729  Request Handlers: 1                                                       \r"
     ]
    }
   ],
   "source": [
    "import syft as sy \n",
    "#duet = sy.launch_duet(loopback=True)\n",
    "duet = sy.launch_duet(network_url=\"http://ec2-3-15-165-254.us-east-2.compute.amazonaws.com:5000\")\n",
    "\n",
    "#OTHER URLs WHICH CAN BE USED\n",
    "#\"http://ec2-18-218-7-180.us-east-2.compute.amazonaws.com:5000\"\n",
    "#\"http://ec2-3-138-111-189.us-east-2.compute.amazonaws.com:5000\"\n",
    "#\"http://ec2-3-15-165-254.us-east-2.compute.amazonaws.com:5000\""
   ]
  },
  {
   "cell_type": "markdown",
   "id": "1569caeb",
   "metadata": {},
   "source": [
    "#### Now return to the DS notebook to get and insert Server ID (Jump 0.1). Then come back to insert DS's ID (Jump 0.2).  After that go to the DO2 notebook (Jump 0.3)"
   ]
  },
  {
   "cell_type": "markdown",
   "id": "6c5ef6f0",
   "metadata": {},
   "source": [
    "# Part 1: Data Prepreparation DO 1"
   ]
  },
  {
   "cell_type": "markdown",
   "id": "256bfb48",
   "metadata": {},
   "source": [
    "### 1.1 Check the data ( DO1)\n",
    "Next we import the neccessary libraries. For this example we will use the wine dataset(https://scikit-learn.org/stable/modules/generated/sklearn.datasets.load_wine.html)."
   ]
  },
  {
   "cell_type": "code",
   "execution_count": 2,
   "id": "33e11e6d",
   "metadata": {},
   "outputs": [
    {
     "name": "stdout",
     "output_type": "stream",
     "text": [
      "♫♫♫ > DUET LIVE STATUS  -  Objects: 0  Requests: 0   Messages: 0  Request Handlers: 0                                \r"
     ]
    }
   ],
   "source": [
    "from sklearn import datasets\n",
    "from sklearn.model_selection import train_test_split\n",
    "import pandas as pd\n",
    "import torch as th"
   ]
  },
  {
   "cell_type": "markdown",
   "id": "c1040851",
   "metadata": {},
   "source": [
    "We split the data into the features (X) and the target labels (y). Than we convert it into a pandas dataframe in order to display the data"
   ]
  },
  {
   "cell_type": "code",
   "execution_count": 3,
   "id": "8f96c154",
   "metadata": {},
   "outputs": [
    {
     "name": "stdout",
     "output_type": "stream",
     "text": [
      "alcohol                          12.978310\n",
      "malic_acid                        2.404789\n",
      "ash                               2.392113\n",
      "alcalinity_of_ash                20.146479\n",
      "magnesium                        97.971831\n",
      "total_phenols                     2.271831\n",
      "flavanoids                        1.944789\n",
      "nonflavanoid_phenols              0.363803\n",
      "proanthocyanins                   1.447042\n",
      "color_intensity                   5.127465\n",
      "hue                               0.967183\n",
      "od280/od315_of_diluted_wines      2.553239\n",
      "proline                         720.000000\n",
      "dtype: float64\n"
     ]
    },
    {
     "data": {
      "text/html": [
       "<div>\n",
       "<style scoped>\n",
       "    .dataframe tbody tr th:only-of-type {\n",
       "        vertical-align: middle;\n",
       "    }\n",
       "\n",
       "    .dataframe tbody tr th {\n",
       "        vertical-align: top;\n",
       "    }\n",
       "\n",
       "    .dataframe thead th {\n",
       "        text-align: right;\n",
       "    }\n",
       "</style>\n",
       "<table border=\"1\" class=\"dataframe\">\n",
       "  <thead>\n",
       "    <tr style=\"text-align: right;\">\n",
       "      <th></th>\n",
       "      <th>alcohol</th>\n",
       "      <th>malic_acid</th>\n",
       "      <th>ash</th>\n",
       "      <th>alcalinity_of_ash</th>\n",
       "      <th>magnesium</th>\n",
       "      <th>total_phenols</th>\n",
       "      <th>flavanoids</th>\n",
       "      <th>nonflavanoid_phenols</th>\n",
       "      <th>proanthocyanins</th>\n",
       "      <th>color_intensity</th>\n",
       "      <th>hue</th>\n",
       "      <th>od280/od315_of_diluted_wines</th>\n",
       "      <th>proline</th>\n",
       "    </tr>\n",
       "  </thead>\n",
       "  <tbody>\n",
       "    <tr>\n",
       "      <th>0</th>\n",
       "      <td>14.13</td>\n",
       "      <td>4.10</td>\n",
       "      <td>2.74</td>\n",
       "      <td>24.5</td>\n",
       "      <td>96.0</td>\n",
       "      <td>2.05</td>\n",
       "      <td>0.76</td>\n",
       "      <td>0.56</td>\n",
       "      <td>1.35</td>\n",
       "      <td>9.20</td>\n",
       "      <td>0.61</td>\n",
       "      <td>1.60</td>\n",
       "      <td>560.0</td>\n",
       "    </tr>\n",
       "    <tr>\n",
       "      <th>1</th>\n",
       "      <td>13.30</td>\n",
       "      <td>1.72</td>\n",
       "      <td>2.14</td>\n",
       "      <td>17.0</td>\n",
       "      <td>94.0</td>\n",
       "      <td>2.40</td>\n",
       "      <td>2.19</td>\n",
       "      <td>0.27</td>\n",
       "      <td>1.35</td>\n",
       "      <td>3.95</td>\n",
       "      <td>1.02</td>\n",
       "      <td>2.77</td>\n",
       "      <td>1285.0</td>\n",
       "    </tr>\n",
       "    <tr>\n",
       "      <th>2</th>\n",
       "      <td>12.08</td>\n",
       "      <td>2.08</td>\n",
       "      <td>1.70</td>\n",
       "      <td>17.5</td>\n",
       "      <td>97.0</td>\n",
       "      <td>2.23</td>\n",
       "      <td>2.17</td>\n",
       "      <td>0.26</td>\n",
       "      <td>1.40</td>\n",
       "      <td>3.30</td>\n",
       "      <td>1.27</td>\n",
       "      <td>2.96</td>\n",
       "      <td>710.0</td>\n",
       "    </tr>\n",
       "    <tr>\n",
       "      <th>3</th>\n",
       "      <td>12.85</td>\n",
       "      <td>1.60</td>\n",
       "      <td>2.52</td>\n",
       "      <td>17.8</td>\n",
       "      <td>95.0</td>\n",
       "      <td>2.48</td>\n",
       "      <td>2.37</td>\n",
       "      <td>0.26</td>\n",
       "      <td>1.46</td>\n",
       "      <td>3.93</td>\n",
       "      <td>1.09</td>\n",
       "      <td>3.63</td>\n",
       "      <td>1015.0</td>\n",
       "    </tr>\n",
       "    <tr>\n",
       "      <th>4</th>\n",
       "      <td>11.82</td>\n",
       "      <td>1.72</td>\n",
       "      <td>1.88</td>\n",
       "      <td>19.5</td>\n",
       "      <td>86.0</td>\n",
       "      <td>2.50</td>\n",
       "      <td>1.64</td>\n",
       "      <td>0.37</td>\n",
       "      <td>1.42</td>\n",
       "      <td>2.06</td>\n",
       "      <td>0.94</td>\n",
       "      <td>2.44</td>\n",
       "      <td>415.0</td>\n",
       "    </tr>\n",
       "  </tbody>\n",
       "</table>\n",
       "</div>"
      ],
      "text/plain": [
       "   alcohol  malic_acid   ash  alcalinity_of_ash  magnesium  total_phenols  \\\n",
       "0    14.13        4.10  2.74               24.5       96.0           2.05   \n",
       "1    13.30        1.72  2.14               17.0       94.0           2.40   \n",
       "2    12.08        2.08  1.70               17.5       97.0           2.23   \n",
       "3    12.85        1.60  2.52               17.8       95.0           2.48   \n",
       "4    11.82        1.72  1.88               19.5       86.0           2.50   \n",
       "\n",
       "   flavanoids  nonflavanoid_phenols  proanthocyanins  color_intensity   hue  \\\n",
       "0        0.76                  0.56             1.35             9.20  0.61   \n",
       "1        2.19                  0.27             1.35             3.95  1.02   \n",
       "2        2.17                  0.26             1.40             3.30  1.27   \n",
       "3        2.37                  0.26             1.46             3.93  1.09   \n",
       "4        1.64                  0.37             1.42             2.06  0.94   \n",
       "\n",
       "   od280/od315_of_diluted_wines  proline  \n",
       "0                          1.60    560.0  \n",
       "1                          2.77   1285.0  \n",
       "2                          2.96    710.0  \n",
       "3                          3.63   1015.0  \n",
       "4                          2.44    415.0  "
      ]
     },
     "execution_count": 3,
     "metadata": {},
     "output_type": "execute_result"
    }
   ],
   "source": [
    "wine = datasets.load_wine()\n",
    "X1, _, y1, _ = train_test_split(wine.data, wine.target, test_size=0.6, random_state=1)\n",
    "print(pd.DataFrame(X1, columns=wine.feature_names).mean())\n",
    "pd.DataFrame(X1, columns=wine.feature_names).head()"
   ]
  },
  {
   "cell_type": "markdown",
   "id": "5e3bc477",
   "metadata": {},
   "source": [
    "### 1.2 Woking with Pysyft ( DO1)\n",
    "The important part is that PySyft is designed to work with tensors. Fortunately, there are several libraries in python, such as Pytorch, which are very well designed to work with them. So, what we need to do is to convert the data into tensors to work with it.\n"
   ]
  },
  {
   "cell_type": "code",
   "execution_count": 4,
   "id": "531a97d8",
   "metadata": {},
   "outputs": [
    {
     "name": "stdout",
     "output_type": "stream",
     "text": [
      "Length of dataset: 71\n"
     ]
    }
   ],
   "source": [
    "X1 = th.FloatTensor(X1)\n",
    "y1 = th.FloatTensor(y1)\n",
    "print(\"Length of dataset:\", len(X1))"
   ]
  },
  {
   "cell_type": "markdown",
   "id": "0988a0d0",
   "metadata": {},
   "source": [
    "Even though we try to preserve privacy as much as possible, the DS, obviously, must know what kind of data he is supposed to work with. We will provide some description to the data and the tags, which the DS will use to refer to the data."
   ]
  },
  {
   "cell_type": "code",
   "execution_count": 5,
   "id": "ce31e4bd",
   "metadata": {},
   "outputs": [],
   "source": [
    "X1 = X1.tag(\"Wine-data\")\n",
    "y1 = y1.tag(\"Wine-labels\")\n",
    "\n",
    "X1 = X1.describe(\n",
    "    \"Wine quality dataset #1 with 13 features (Alcohol, Malic acid, Ash, Alcalinity of ash, Magnesium, Total phenols, Flavanoids, Nonflavanoid phenols, Proanthocyanins, Color intensity, Hue, OD280/OD315 of diluted wines, Proline)\")\n",
    "y1 = y1.describe(\"Labels for wine: class_0, class_1, class_2\")"
   ]
  },
  {
   "cell_type": "markdown",
   "id": "3f406cba",
   "metadata": {},
   "source": [
    "Next step is to upload the data to the Duet server and create pointers to the data. So every time the DS will want to use somehow the data, we will recieve a notification which we can accept or reject, meaning that the DS can not use the data without our permission. "
   ]
  },
  {
   "cell_type": "code",
   "execution_count": 6,
   "id": "b023c2bb",
   "metadata": {},
   "outputs": [],
   "source": [
    "data_pointer1 = X1.send(duet, pointable=True)\n",
    "target_pointer1 = y1.send(duet, pointable=True)"
   ]
  },
  {
   "cell_type": "code",
   "execution_count": 7,
   "id": "9db62006",
   "metadata": {},
   "outputs": [
    {
     "data": {
      "text/plain": [
       "[<syft.proxy.torch.TensorPointer object at 0x00000228038D6BB0>, <syft.proxy.torch.TensorPointer object at 0x00000228038D6DC0>]"
      ]
     },
     "execution_count": 7,
     "metadata": {},
     "output_type": "execute_result"
    }
   ],
   "source": [
    "# Data owner 1 can verify that the object stored in the tensor\n",
    "duet.store"
   ]
  },
  {
   "cell_type": "markdown",
   "id": "bdf1ea2d",
   "metadata": {},
   "source": [
    "Similarly to the dataframe format in pandas, we display an information about the tensors."
   ]
  },
  {
   "cell_type": "code",
   "execution_count": 8,
   "id": "f70f6f57",
   "metadata": {},
   "outputs": [
    {
     "data": {
      "text/html": [
       "<div>\n",
       "<style scoped>\n",
       "    .dataframe tbody tr th:only-of-type {\n",
       "        vertical-align: middle;\n",
       "    }\n",
       "\n",
       "    .dataframe tbody tr th {\n",
       "        vertical-align: top;\n",
       "    }\n",
       "\n",
       "    .dataframe thead th {\n",
       "        text-align: right;\n",
       "    }\n",
       "</style>\n",
       "<table border=\"1\" class=\"dataframe\">\n",
       "  <thead>\n",
       "    <tr style=\"text-align: right;\">\n",
       "      <th></th>\n",
       "      <th>ID</th>\n",
       "      <th>Tags</th>\n",
       "      <th>Description</th>\n",
       "      <th>object_type</th>\n",
       "    </tr>\n",
       "  </thead>\n",
       "  <tbody>\n",
       "    <tr>\n",
       "      <th>0</th>\n",
       "      <td>&lt;UID: 10e9a8184ffa42c8835b0712f8c602cc&gt;</td>\n",
       "      <td>[Wine-data]</td>\n",
       "      <td>Wine quality dataset #1 with 13 features (Alco...</td>\n",
       "      <td>&lt;class 'torch.Tensor'&gt;</td>\n",
       "    </tr>\n",
       "    <tr>\n",
       "      <th>1</th>\n",
       "      <td>&lt;UID: baca0f2c081b446399cc2d0da441e82e&gt;</td>\n",
       "      <td>[Wine-labels]</td>\n",
       "      <td>Labels for wine: class_0, class_1, class_2</td>\n",
       "      <td>&lt;class 'torch.Tensor'&gt;</td>\n",
       "    </tr>\n",
       "  </tbody>\n",
       "</table>\n",
       "</div>"
      ],
      "text/plain": [
       "                                        ID           Tags  \\\n",
       "0  <UID: 10e9a8184ffa42c8835b0712f8c602cc>    [Wine-data]   \n",
       "1  <UID: baca0f2c081b446399cc2d0da441e82e>  [Wine-labels]   \n",
       "\n",
       "                                         Description             object_type  \n",
       "0  Wine quality dataset #1 with 13 features (Alco...  <class 'torch.Tensor'>  \n",
       "1         Labels for wine: class_0, class_1, class_2  <class 'torch.Tensor'>  "
      ]
     },
     "execution_count": 8,
     "metadata": {},
     "output_type": "execute_result"
    },
    {
     "name": "stderr",
     "output_type": "stream",
     "text": [
      "[2022-04-22T18:17:26.081681+0200][CRITICAL][logger]][8672] You do not have permission to .get() Object with ID: <UID: 3307ad3bf4304915b29834d293ab044c>Please submit a request.\n",
      "[2022-04-22T18:17:26.082031+0200][CRITICAL][logger]][8672] You do not have permission to .get() Object with ID: <UID: 3307ad3bf4304915b29834d293ab044c>Please submit a request.\n"
     ]
    }
   ],
   "source": [
    "duet.store.pandas"
   ]
  },
  {
   "cell_type": "markdown",
   "id": "4b8cbe2a",
   "metadata": {},
   "source": [
    "#### Now go and perform the same procedure with DO2 notebook (Jump 1.1)"
   ]
  },
  {
   "cell_type": "markdown",
   "id": "4cfb18e0",
   "metadata": {},
   "source": [
    "# Part 2: Working With The Data (DO 1)"
   ]
  },
  {
   "cell_type": "markdown",
   "id": "df8d0aaa",
   "metadata": {},
   "source": [
    "If we take a look at a DUET LIVE STATUS we will see that there is a request waiting for our approval. Let us check its content."
   ]
  },
  {
   "cell_type": "code",
   "execution_count": 9,
   "id": "8855c6c4",
   "metadata": {},
   "outputs": [
    {
     "data": {
      "text/html": [
       "<div>\n",
       "<style scoped>\n",
       "    .dataframe tbody tr th:only-of-type {\n",
       "        vertical-align: middle;\n",
       "    }\n",
       "\n",
       "    .dataframe tbody tr th {\n",
       "        vertical-align: top;\n",
       "    }\n",
       "\n",
       "    .dataframe thead th {\n",
       "        text-align: right;\n",
       "    }\n",
       "</style>\n",
       "<table border=\"1\" class=\"dataframe\">\n",
       "  <thead>\n",
       "    <tr style=\"text-align: right;\">\n",
       "      <th></th>\n",
       "      <th>Requested Object's tags</th>\n",
       "      <th>Reason</th>\n",
       "      <th>Request ID</th>\n",
       "      <th>Requested Object's ID</th>\n",
       "      <th>Requested Object's type</th>\n",
       "    </tr>\n",
       "  </thead>\n",
       "  <tbody>\n",
       "    <tr>\n",
       "      <th>0</th>\n",
       "      <td>[Wine-data, mean, __getitem__]</td>\n",
       "      <td>I NEED AN AVERAGE YOU DONUT!!!</td>\n",
       "      <td>&lt;UID: a8909654058c4f14a250afb49ed2033c&gt;</td>\n",
       "      <td>&lt;UID: 3307ad3bf4304915b29834d293ab044c&gt;</td>\n",
       "      <td></td>\n",
       "    </tr>\n",
       "  </tbody>\n",
       "</table>\n",
       "</div>"
      ],
      "text/plain": [
       "          Requested Object's tags                          Reason  \\\n",
       "0  [Wine-data, mean, __getitem__]  I NEED AN AVERAGE YOU DONUT!!!   \n",
       "\n",
       "                                Request ID  \\\n",
       "0  <UID: a8909654058c4f14a250afb49ed2033c>   \n",
       "\n",
       "                     Requested Object's ID Requested Object's type  \n",
       "0  <UID: 3307ad3bf4304915b29834d293ab044c>                          "
      ]
     },
     "execution_count": 9,
     "metadata": {},
     "output_type": "execute_result"
    }
   ],
   "source": [
    "duet.requests.pandas"
   ]
  },
  {
   "cell_type": "code",
   "execution_count": 10,
   "id": "67b12c63",
   "metadata": {},
   "outputs": [
    {
     "data": {
      "text/plain": [
       "'I NEED AN AVERAGE YOU DONUT!!!'"
      ]
     },
     "execution_count": 10,
     "metadata": {},
     "output_type": "execute_result"
    }
   ],
   "source": [
    "duet.requests[0].request_description"
   ]
  },
  {
   "cell_type": "markdown",
   "id": "46801aa9",
   "metadata": {},
   "source": [
    "Doesn't seem to be the propper way to describe the request. It is better to decline it for good and check if there are any other requests left."
   ]
  },
  {
   "cell_type": "code",
   "execution_count": 11,
   "id": "7612a449",
   "metadata": {},
   "outputs": [
    {
     "data": {
      "text/html": [
       "<div>\n",
       "<style scoped>\n",
       "    .dataframe tbody tr th:only-of-type {\n",
       "        vertical-align: middle;\n",
       "    }\n",
       "\n",
       "    .dataframe tbody tr th {\n",
       "        vertical-align: top;\n",
       "    }\n",
       "\n",
       "    .dataframe thead th {\n",
       "        text-align: right;\n",
       "    }\n",
       "</style>\n",
       "<table border=\"1\" class=\"dataframe\">\n",
       "  <thead>\n",
       "    <tr style=\"text-align: right;\">\n",
       "      <th></th>\n",
       "    </tr>\n",
       "  </thead>\n",
       "  <tbody>\n",
       "  </tbody>\n",
       "</table>\n",
       "</div>"
      ],
      "text/plain": [
       "Empty DataFrame\n",
       "Columns: []\n",
       "Index: []"
      ]
     },
     "execution_count": 11,
     "metadata": {},
     "output_type": "execute_result"
    },
    {
     "name": "stderr",
     "output_type": "stream",
     "text": [
      "[2022-04-22T18:17:48.016515+0200][CRITICAL][logger]][8672] You do not have permission to .get() Object with ID: <UID: 3307ad3bf4304915b29834d293ab044c>Please submit a request.\n",
      "[2022-04-22T18:17:48.017561+0200][CRITICAL][logger]][8672] You do not have permission to .get() Object with ID: <UID: 3307ad3bf4304915b29834d293ab044c>Please submit a request.\n"
     ]
    }
   ],
   "source": [
    "duet.requests[0].deny()\n",
    "duet.requests.pandas"
   ]
  },
  {
   "cell_type": "markdown",
   "id": "940ff379",
   "metadata": {},
   "source": [
    "#### Return to the DS notebook and proceed (Jump 2.2)"
   ]
  },
  {
   "cell_type": "markdown",
   "id": "32a187e3",
   "metadata": {},
   "source": [
    "# Part 3: Creating and training the models (DO 1)"
   ]
  },
  {
   "cell_type": "markdown",
   "id": "9b6c7dfe",
   "metadata": {},
   "source": [
    "The DO can add requests to be accepted or denied by adding them to request handlers. On the contrrary, if we don't specify anyhing, than it means we are willing to accept everything"
   ]
  },
  {
   "cell_type": "code",
   "execution_count": 12,
   "id": "b16858d4",
   "metadata": {},
   "outputs": [],
   "source": [
    "duet.requests.add_handler(action=\"accept\")"
   ]
  },
  {
   "cell_type": "markdown",
   "id": "2637caf7",
   "metadata": {},
   "source": [
    "#### Get to the DO2 notebook (Jump 3.2)"
   ]
  }
 ],
 "metadata": {
  "kernelspec": {
   "display_name": "Python 3 (ipykernel)",
   "language": "python",
   "name": "python3"
  },
  "language_info": {
   "codemirror_mode": {
    "name": "ipython",
    "version": 3
   },
   "file_extension": ".py",
   "mimetype": "text/x-python",
   "name": "python",
   "nbconvert_exporter": "python",
   "pygments_lexer": "ipython3",
   "version": "3.9.7"
  }
 },
 "nbformat": 4,
 "nbformat_minor": 5
}
