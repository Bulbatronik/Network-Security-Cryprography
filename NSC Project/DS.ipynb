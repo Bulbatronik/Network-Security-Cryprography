{
 "cells": [
  {
   "cell_type": "markdown",
   "id": "291a84c6",
   "metadata": {},
   "source": [
    "# Privacy-preserving machine learning"
   ]
  },
  {
   "cell_type": "markdown",
   "id": "1f2e2383",
   "metadata": {},
   "source": [
    "In thess notebooks we will discuss the main concepts of Federated Learning(FL). \n",
    "Consider a classic ML model, but in a situation where the data owner(DO) would prefer to not expose his data. In this case, what a data scientis(DS) can do is to create a base model and train it on the DO's side. In case we have multiple data owners, the procedure is very simiar, but in the end we aggregate the final models. The advantages are are data privacy and the reduction of the computational costs, since the data might be distributed among several DO's.\n",
    "\n",
    "PySyft(https://github.com/OpenMined/PySyft) is a library a library designed to provide an orchistration between the DS and the DO(s)."
   ]
  },
  {
   "cell_type": "markdown",
   "id": "a4911fae",
   "metadata": {},
   "source": [
    "# Part 0: Setup Data Scientist"
   ]
  },
  {
   "cell_type": "markdown",
   "id": "ca0da4fb",
   "metadata": {},
   "source": [
    "#### Now open the DO1 notebook and let's get started (Jump 0.0)"
   ]
  },
  {
   "cell_type": "markdown",
   "id": "a15624d1",
   "metadata": {},
   "source": [
    "Join the Duet Server data owner 1 connected to."
   ]
  },
  {
   "cell_type": "code",
   "execution_count": 1,
   "id": "1747c294",
   "metadata": {},
   "outputs": [
    {
     "name": "stdout",
     "output_type": "stream",
     "text": [
      "🎤  🎸  ♪♪♪ Joining Duet ♫♫♫  🎻  🎹\n",
      "\n",
      "♫♫♫ >\u001b[93m DISCLAIMER\u001b[0m: \u001b[1mDuet is an experimental feature currently in beta.\n",
      "♫♫♫ > Use at your own risk.\n",
      "\u001b[0m\n",
      "\u001b[1m\n",
      "    > ❤️ \u001b[91mLove\u001b[0m \u001b[92mDuet\u001b[0m? \u001b[93mPlease\u001b[0m \u001b[94mconsider\u001b[0m \u001b[95msupporting\u001b[0m \u001b[91mour\u001b[0m \u001b[93mcommunity!\u001b[0m\n",
      "    > https://github.com/sponsors/OpenMined\u001b[1m\n",
      "\n",
      "♫♫♫ > Punching through firewall to OpenGrid Network Node at:\n",
      "♫♫♫ > http://ec2-3-15-165-254.us-east-2.compute.amazonaws.com:5000\n",
      "♫♫♫ >\n",
      "♫♫♫ > ...waiting for response from OpenGrid Network... \n",
      "♫♫♫ > \u001b[92mDONE!\u001b[0m\n",
      "\n",
      "♫♫♫ > \u001b[95mSTEP 1:\u001b[0m Send the following Duet Client ID to your duet partner!\n",
      "♫♫♫ > Duet Client ID: \u001b[1m62ed5faa7d167002ba8cb23a665dc04d\u001b[0m\n",
      "\n",
      "♫♫♫ > ...waiting for partner to connect...\n",
      "\n",
      "♫♫♫ > \u001b[92mCONNECTED!\u001b[0m\n"
     ]
    }
   ],
   "source": [
    "import syft as sy\n",
    "#duet1 = sy.join_duet(loopback=True)\n",
    "#duet1 = sy.join_duet('INSERT_DUET_SERVER_ID', network_url=\"http://ec2-3-15-165-254.us-east-2.compute.amazonaws.com:5000\")\n",
    "duet1 = sy.join_duet('a27c8bc011af31164a3e3d164d4e0190', network_url=\"http://ec2-3-15-165-254.us-east-2.compute.amazonaws.com:5000\")"
   ]
  },
  {
   "cell_type": "markdown",
   "id": "f6291165",
   "metadata": {},
   "source": [
    "Join the Duet Server the Data Owner 2 connected to."
   ]
  },
  {
   "cell_type": "code",
   "execution_count": 2,
   "id": "2c686be1",
   "metadata": {},
   "outputs": [
    {
     "name": "stdout",
     "output_type": "stream",
     "text": [
      "🎤  🎸  ♪♪♪ Joining Duet ♫♫♫  🎻  🎹\n",
      "\n",
      "♫♫♫ >\u001b[93m DISCLAIMER\u001b[0m: \u001b[1mDuet is an experimental feature currently in beta.\n",
      "♫♫♫ > Use at your own risk.\n",
      "\u001b[0m\n",
      "\u001b[1m\n",
      "    > ❤️ \u001b[91mLove\u001b[0m \u001b[92mDuet\u001b[0m? \u001b[93mPlease\u001b[0m \u001b[94mconsider\u001b[0m \u001b[95msupporting\u001b[0m \u001b[91mour\u001b[0m \u001b[93mcommunity!\u001b[0m\n",
      "    > https://github.com/sponsors/OpenMined\u001b[1m\n",
      "\n",
      "♫♫♫ > Punching through firewall to OpenGrid Network Node at:\n",
      "♫♫♫ > http://ec2-3-15-165-254.us-east-2.compute.amazonaws.com:5000\n",
      "♫♫♫ >\n",
      "♫♫♫ > ...waiting for response from OpenGrid Network... \n",
      "♫♫♫ > \u001b[92mDONE!\u001b[0m\n",
      "\n",
      "♫♫♫ > \u001b[95mSTEP 1:\u001b[0m Send the following Duet Client ID to your duet partner!\n",
      "♫♫♫ > Duet Client ID: \u001b[1m8e1852e377bd999f66c3843a47574814\u001b[0m\n",
      "\n",
      "♫♫♫ > ...waiting for partner to connect...\n",
      "\n",
      "♫♫♫ > \u001b[92mCONNECTED!\u001b[0m\n"
     ]
    }
   ],
   "source": [
    "#duet2 = sy.join_duet(loopback=True)\n",
    "#duet2 = sy.join_duet('INSERT_DUET_SERVER_ID', network_url=\"http://ec2-3-15-165-254.us-east-2.compute.amazonaws.com:5000\")\n",
    "duet2 = sy.join_duet('c42fcad4f6c305ad1921bf250a72048e', network_url=\"http://ec2-3-15-165-254.us-east-2.compute.amazonaws.com:5000\")"
   ]
  },
  {
   "cell_type": "markdown",
   "id": "b2051305",
   "metadata": {},
   "source": [
    "# Part 2: Working With The Data"
   ]
  },
  {
   "cell_type": "markdown",
   "id": "d0c1e519",
   "metadata": {},
   "source": [
    "### 2.1 Data Description\n",
    "The data scientist can check the list of searchable data in Data Owner's duet store"
   ]
  },
  {
   "cell_type": "code",
   "execution_count": 3,
   "id": "50b33985",
   "metadata": {
    "scrolled": true
   },
   "outputs": [
    {
     "data": {
      "text/html": [
       "<div>\n",
       "<style scoped>\n",
       "    .dataframe tbody tr th:only-of-type {\n",
       "        vertical-align: middle;\n",
       "    }\n",
       "\n",
       "    .dataframe tbody tr th {\n",
       "        vertical-align: top;\n",
       "    }\n",
       "\n",
       "    .dataframe thead th {\n",
       "        text-align: right;\n",
       "    }\n",
       "</style>\n",
       "<table border=\"1\" class=\"dataframe\">\n",
       "  <thead>\n",
       "    <tr style=\"text-align: right;\">\n",
       "      <th></th>\n",
       "      <th>ID</th>\n",
       "      <th>Tags</th>\n",
       "      <th>Description</th>\n",
       "      <th>object_type</th>\n",
       "    </tr>\n",
       "  </thead>\n",
       "  <tbody>\n",
       "    <tr>\n",
       "      <th>0</th>\n",
       "      <td>&lt;UID: 10e9a8184ffa42c8835b0712f8c602cc&gt;</td>\n",
       "      <td>[Wine-data]</td>\n",
       "      <td>Wine quality dataset #1 with 13 features (Alco...</td>\n",
       "      <td>&lt;class 'torch.Tensor'&gt;</td>\n",
       "    </tr>\n",
       "    <tr>\n",
       "      <th>1</th>\n",
       "      <td>&lt;UID: baca0f2c081b446399cc2d0da441e82e&gt;</td>\n",
       "      <td>[Wine-labels]</td>\n",
       "      <td>Labels for wine: class_0, class_1, class_2</td>\n",
       "      <td>&lt;class 'torch.Tensor'&gt;</td>\n",
       "    </tr>\n",
       "  </tbody>\n",
       "</table>\n",
       "</div>"
      ],
      "text/plain": [
       "                                        ID           Tags  \\\n",
       "0  <UID: 10e9a8184ffa42c8835b0712f8c602cc>    [Wine-data]   \n",
       "1  <UID: baca0f2c081b446399cc2d0da441e82e>  [Wine-labels]   \n",
       "\n",
       "                                         Description             object_type  \n",
       "0  Wine quality dataset #1 with 13 features (Alco...  <class 'torch.Tensor'>  \n",
       "1         Labels for wine: class_0, class_1, class_2  <class 'torch.Tensor'>  "
      ]
     },
     "execution_count": 3,
     "metadata": {},
     "output_type": "execute_result"
    }
   ],
   "source": [
    "duet1.store.pandas"
   ]
  },
  {
   "cell_type": "code",
   "execution_count": 4,
   "id": "ef9b62cb",
   "metadata": {},
   "outputs": [
    {
     "data": {
      "text/html": [
       "<div>\n",
       "<style scoped>\n",
       "    .dataframe tbody tr th:only-of-type {\n",
       "        vertical-align: middle;\n",
       "    }\n",
       "\n",
       "    .dataframe tbody tr th {\n",
       "        vertical-align: top;\n",
       "    }\n",
       "\n",
       "    .dataframe thead th {\n",
       "        text-align: right;\n",
       "    }\n",
       "</style>\n",
       "<table border=\"1\" class=\"dataframe\">\n",
       "  <thead>\n",
       "    <tr style=\"text-align: right;\">\n",
       "      <th></th>\n",
       "      <th>ID</th>\n",
       "      <th>Tags</th>\n",
       "      <th>Description</th>\n",
       "      <th>object_type</th>\n",
       "    </tr>\n",
       "  </thead>\n",
       "  <tbody>\n",
       "    <tr>\n",
       "      <th>0</th>\n",
       "      <td>&lt;UID: 602738e8807e4eb08ea630794820f471&gt;</td>\n",
       "      <td>[Wine-data]</td>\n",
       "      <td>Wine quality dataset #2 with 13 features (Alco...</td>\n",
       "      <td>&lt;class 'torch.Tensor'&gt;</td>\n",
       "    </tr>\n",
       "    <tr>\n",
       "      <th>1</th>\n",
       "      <td>&lt;UID: 885d601cf5644ebd9a1efcf46144bd9e&gt;</td>\n",
       "      <td>[Wine-labels]</td>\n",
       "      <td>Labels for wine: class_0, class_1, class_2</td>\n",
       "      <td>&lt;class 'torch.Tensor'&gt;</td>\n",
       "    </tr>\n",
       "  </tbody>\n",
       "</table>\n",
       "</div>"
      ],
      "text/plain": [
       "                                        ID           Tags  \\\n",
       "0  <UID: 602738e8807e4eb08ea630794820f471>    [Wine-data]   \n",
       "1  <UID: 885d601cf5644ebd9a1efcf46144bd9e>  [Wine-labels]   \n",
       "\n",
       "                                         Description             object_type  \n",
       "0  Wine quality dataset #2 with 13 features (Alco...  <class 'torch.Tensor'>  \n",
       "1         Labels for wine: class_0, class_1, class_2  <class 'torch.Tensor'>  "
      ]
     },
     "execution_count": 4,
     "metadata": {},
     "output_type": "execute_result"
    }
   ],
   "source": [
    "duet2.store.pandas"
   ]
  },
  {
   "cell_type": "markdown",
   "id": "028595f5",
   "metadata": {},
   "source": [
    "Now let us get the pointers to the data and the target for both DOs and read the descririptions provided to us"
   ]
  },
  {
   "cell_type": "code",
   "execution_count": 5,
   "id": "ca1d7bbb",
   "metadata": {},
   "outputs": [
    {
     "name": "stdout",
     "output_type": "stream",
     "text": [
      "<syft.proxy.torch.TensorPointer object at 0x000001DCB6BB6400>\n",
      "Wine quality dataset #1 with 13 features (Alcohol, Malic acid, Ash, Alcalinity of ash, Magnesium, Total phenols, Flavanoids, Nonflavanoid phenols, Proanthocyanins, Color intensity, Hue, OD280/OD315 of diluted wines, Proline)\n",
      "\n",
      "<syft.proxy.torch.TensorPointer object at 0x000001DCB76BC100>\n",
      "Labels for wine: class_0, class_1, class_2\n"
     ]
    }
   ],
   "source": [
    "data_ptr1 = duet1.store[\"Wine-data\"] # or duet1.store[0]\n",
    "target_ptr1 = duet1.store[\"Wine-labels\"] # or duet1.store[1]\n",
    "\n",
    "print(data_ptr1)\n",
    "print(duet1.store.pandas[\"Description\"][0])\n",
    "print()\n",
    "print(target_ptr1)\n",
    "print(duet1.store.pandas[\"Description\"][1])"
   ]
  },
  {
   "cell_type": "code",
   "execution_count": 6,
   "id": "4de4f34b",
   "metadata": {},
   "outputs": [
    {
     "name": "stdout",
     "output_type": "stream",
     "text": [
      "<syft.proxy.torch.TensorPointer object at 0x000001DCB76BC910>\n",
      "Wine quality dataset #2 with 13 features (Alcohol, Malic acid, Ash, Alcalinity of ash, Magnesium, Total phenols, Flavanoids, Nonflavanoid phenols, Proanthocyanins, Color intensity, Hue, OD280/OD315 of diluted wines, Proline)\n",
      "\n",
      "<syft.proxy.torch.TensorPointer object at 0x000001DCB76BC040>\n",
      "Labels for wine: class_0, class_1, class_2\n"
     ]
    }
   ],
   "source": [
    "data_ptr2 = duet2.store[\"Wine-data\"] # or duet2.store[0]\n",
    "target_ptr2 = duet2.store[\"Wine-labels\"] # or duet2.store[1]\n",
    "\n",
    "print(data_ptr2)\n",
    "print(duet2.store.pandas[\"Description\"][0])\n",
    "print()\n",
    "print(target_ptr2)\n",
    "print(duet2.store.pandas[\"Description\"][1])"
   ]
  },
  {
   "cell_type": "markdown",
   "id": "6dbc9586",
   "metadata": {},
   "source": [
    "### 2.2 Requests in PySyft\n",
    "Imagine a scenario where a DS needs know some statistics of the data, say, the mean value of an Alcohol. DO requests the result which, in turn, the DO can either decline or accept.\n",
    "Now we will apply the mean of the first column with respect to the pointer and try to get the result. It will cause an exeption since we are not allowed to get the data directly. Thus, as it was said before we will create a request with the reason."
   ]
  },
  {
   "cell_type": "code",
   "execution_count": 7,
   "id": "5aeb373a",
   "metadata": {},
   "outputs": [],
   "source": [
    "average_alco1 = data_ptr1.mean(axis = 0)[0]"
   ]
  },
  {
   "cell_type": "code",
   "execution_count": 8,
   "id": "b88059dd",
   "metadata": {},
   "outputs": [
    {
     "name": "stderr",
     "output_type": "stream",
     "text": [
      "[2022-04-22T18:17:26.088672+0200][CRITICAL][logger]][2792] You do not have permission to .get() Object with ID: <UID: 3307ad3bf4304915b29834d293ab044c>Please submit a request.\n"
     ]
    },
    {
     "name": "stdout",
     "output_type": "stream",
     "text": [
      "You do not have permission to .get() Object with ID: <UID: 3307ad3bf4304915b29834d293ab044c>Please submit a request.\n"
     ]
    }
   ],
   "source": [
    "try:\n",
    "    average_alco1.get()\n",
    "except Exception as e:\n",
    "    print(e)"
   ]
  },
  {
   "cell_type": "code",
   "execution_count": 9,
   "id": "c88debac",
   "metadata": {},
   "outputs": [],
   "source": [
    "average_alco1.request(\n",
    "    reason=\"I NEED AN AVERAGE YOU DONUT!!!\"\n",
    ")"
   ]
  },
  {
   "cell_type": "markdown",
   "id": "77b8e3ef",
   "metadata": {},
   "source": [
    "#### Now open the DO1 notebook and check the live status (Jump 2.1)"
   ]
  },
  {
   "cell_type": "code",
   "execution_count": 10,
   "id": "71487e7f",
   "metadata": {},
   "outputs": [
    {
     "name": "stderr",
     "output_type": "stream",
     "text": [
      "[2022-04-22T18:17:48.024754+0200][CRITICAL][logger]][2792] You do not have permission to .get() Object with ID: <UID: 3307ad3bf4304915b29834d293ab044c>Please submit a request.\n"
     ]
    },
    {
     "name": "stdout",
     "output_type": "stream",
     "text": [
      "You do not have permission to .get() Object with ID: <UID: 3307ad3bf4304915b29834d293ab044c>Please submit a request.\n"
     ]
    }
   ],
   "source": [
    "try:\n",
    "    average_alco1.get()\n",
    "except Exception as e:\n",
    "    print(e)"
   ]
  },
  {
   "cell_type": "markdown",
   "id": "3a8f1e51",
   "metadata": {},
   "source": [
    "The request has been denied, what a pitty. Now we shall request the mean value of an Alcohol from the DO2 with a proper request this time."
   ]
  },
  {
   "cell_type": "code",
   "execution_count": 11,
   "id": "0aac8d1f",
   "metadata": {},
   "outputs": [],
   "source": [
    "average_alco2 = data_ptr2.mean(axis = 0)[0]"
   ]
  },
  {
   "cell_type": "code",
   "execution_count": 12,
   "id": "8129139b",
   "metadata": {},
   "outputs": [
    {
     "name": "stderr",
     "output_type": "stream",
     "text": [
      "[2022-04-22T18:18:01.905072+0200][CRITICAL][logger]][2792] You do not have permission to .get() Object with ID: <UID: 77a22d7279074758b0daca088b45956d>Please submit a request.\n"
     ]
    },
    {
     "name": "stdout",
     "output_type": "stream",
     "text": [
      "You do not have permission to .get() Object with ID: <UID: 77a22d7279074758b0daca088b45956d>Please submit a request.\n"
     ]
    }
   ],
   "source": [
    "try:\n",
    "    average_alco2.get()\n",
    "except Exception as e:\n",
    "    print(e)"
   ]
  },
  {
   "cell_type": "code",
   "execution_count": 13,
   "id": "794c596f",
   "metadata": {},
   "outputs": [],
   "source": [
    "average_alco2.request(\n",
    "    reason=\"I would be very gratefull if you could possibly provide me the average alcohol for my research OwO\"\n",
    ")"
   ]
  },
  {
   "cell_type": "markdown",
   "id": "d3dbf1dd",
   "metadata": {},
   "source": [
    "#### Now open the DO2 notebook and check the live status (Jump 2.3)"
   ]
  },
  {
   "cell_type": "markdown",
   "id": "b9a92419",
   "metadata": {},
   "source": [
    "Now when the request is accepted, we can display the value and, if needed, return to the DO2 notebook and find that the retrieved value and the mean aclohol are, indeed, equal."
   ]
  },
  {
   "cell_type": "code",
   "execution_count": 14,
   "id": "40787ed3",
   "metadata": {},
   "outputs": [
    {
     "name": "stdout",
     "output_type": "stream",
     "text": [
      "tensor(13.0154)\n"
     ]
    }
   ],
   "source": [
    "avg1 = average_alco2.get()\n",
    "print(avg1)"
   ]
  },
  {
   "cell_type": "markdown",
   "id": "017b4b37",
   "metadata": {},
   "source": [
    "# Part 3: Creating and training the models"
   ]
  },
  {
   "cell_type": "markdown",
   "id": "8e2434b0",
   "metadata": {},
   "source": [
    "Before we will create the model, let us discuss one thing. During the training at each epoch we will be requesting the data from the DOs. In our case the number of epochs is not that big, but in reality this value can be quite large. In order to not switch between the notebooks every single time we can automatically accept or deny the requests by using request handlers.\n",
    "#### Get to the DO1 notebook (Jump 3.1)"
   ]
  },
  {
   "cell_type": "markdown",
   "id": "b63ee5ea",
   "metadata": {},
   "source": [
    "### 3.1 Model architecture\n",
    "Now we shall import some libraries to build the model and work with the data"
   ]
  },
  {
   "cell_type": "code",
   "execution_count": 15,
   "id": "dbf03cf5",
   "metadata": {},
   "outputs": [],
   "source": [
    "import torch\n",
    "import pandas as pd\n",
    "import numpy as np\n",
    "import matplotlib.pyplot as plt\n",
    "from collections import OrderedDict\n",
    "from sklearn.metrics import accuracy_score"
   ]
  },
  {
   "cell_type": "code",
   "execution_count": 16,
   "id": "f12bd1d7",
   "metadata": {},
   "outputs": [],
   "source": [
    "input_features = 13 #number of features\n",
    "out_features = 3 #number of classes"
   ]
  },
  {
   "cell_type": "markdown",
   "id": "a788b2e5",
   "metadata": {},
   "source": [
    "The model is created using PyTorch. What makes this framework perfect for PySyft is that it operates with tensors too. The model consists of two fully connected layers each one of which is followed by a batch normalization layer with an activation function and an output layer with a softmax, since we are dealing with a classification problem. If you are unfamiliar with PyTorch, refer to the folowing link: https://pytorch.org/docs/stable/index.html"
   ]
  },
  {
   "cell_type": "code",
   "execution_count": 17,
   "id": "a738db90",
   "metadata": {},
   "outputs": [],
   "source": [
    "class SyNet(sy.Module):\n",
    "    def __init__(self, torch_ref):\n",
    "        super(SyNet, self).__init__(torch_ref=torch_ref)\n",
    "        self.fc1 = self.torch_ref.nn.Linear(input_features, 96)\n",
    "        self.fc1_bn=self.torch_ref.nn.BatchNorm1d(96)\n",
    "        \n",
    "        self.fc2 = self.torch_ref.nn.Linear(96, 96)\n",
    "        self.fc2_bn=self.torch_ref.nn.BatchNorm1d(96)\n",
    "        \n",
    "        self.fc3 = self.torch_ref.nn.Linear(96, 3)\n",
    "\n",
    "    def forward(self, x):\n",
    "        x = self.fc1(x)\n",
    "        x = self.torch_ref.nn.functional.relu(self.fc1_bn(x))\n",
    "        \n",
    "        x = self.fc2(x)\n",
    "        x = self.torch_ref.nn.functional.relu(self.fc2_bn(x))\n",
    "        \n",
    "        #x = self.fc2(x)\n",
    "        x = self.fc3(x)\n",
    "        output = self.torch_ref.nn.functional.log_softmax(x, dim=1)# since it is a classification problem\n",
    "        return output"
   ]
  },
  {
   "cell_type": "markdown",
   "id": "056a645c",
   "metadata": {},
   "source": [
    " Create a local model"
   ]
  },
  {
   "cell_type": "code",
   "execution_count": 18,
   "id": "df6ada73",
   "metadata": {},
   "outputs": [],
   "source": [
    "local_model = SyNet(torch)"
   ]
  },
  {
   "cell_type": "markdown",
   "id": "a03ed1df",
   "metadata": {},
   "source": [
    "Send a copy of a model to each of the Data Owners"
   ]
  },
  {
   "cell_type": "code",
   "execution_count": 19,
   "id": "61e9f2b5",
   "metadata": {},
   "outputs": [],
   "source": [
    "remote_model1 = local_model.send(duet1)\n",
    "remote_model2 = local_model.send(duet2)"
   ]
  },
  {
   "cell_type": "markdown",
   "id": "ade67a8a",
   "metadata": {},
   "source": [
    "Now we will create aliases to DOs’s torches called remote_torch1 and remote_torch2. Thus we will be able to refer to the local torch as torch and any operation we want to do remotely as remote_torch. This will help us to identify who is who and to perform the training independently. It is important that everything retured from remote_torch1 and remote_torch2 are Pointers, not the real objects!"
   ]
  },
  {
   "cell_type": "code",
   "execution_count": 20,
   "id": "7154475d",
   "metadata": {},
   "outputs": [],
   "source": [
    "remote_torch1 = duet1.torch\n",
    "remote_torch2 = duet2.torch"
   ]
  },
  {
   "cell_type": "markdown",
   "id": "46d8d7d7",
   "metadata": {},
   "source": [
    "Let's create pointers to parameters and optimizers for each of the models"
   ]
  },
  {
   "cell_type": "code",
   "execution_count": 21,
   "id": "56559b36",
   "metadata": {},
   "outputs": [
    {
     "name": "stdout",
     "output_type": "stream",
     "text": [
      "Pointers to Data owner 1's side:\n",
      "params: <syft.proxy.syft.lib.python.ListPointer object at 0x000001DCB705C2E0>\n",
      "optim: <syft.proxy.torch.optim.AdamPointer object at 0x000001DCBAA092E0>\n",
      "Pointers to Data owner 2's side:\n",
      "params: <syft.proxy.syft.lib.python.ListPointer object at 0x000001DCB7CB6D30>\n",
      "optim: <syft.proxy.torch.optim.AdamPointer object at 0x000001DCB705FA90>\n"
     ]
    }
   ],
   "source": [
    "params1 = remote_model1.parameters()\n",
    "optim1 = remote_torch1.optim.Adam(params=params1, lr=0.01)\n",
    "print(\"Pointers to Data owner 1's side:\")\n",
    "print(\"params:\", params1)\n",
    "print(\"optim:\", optim1)\n",
    "\n",
    "params2 = remote_model2.parameters()\n",
    "optim2 = remote_torch2.optim.Adam(params=params2, lr=0.01)\n",
    "print(\"Pointers to Data owner 2's side:\")\n",
    "print(\"params:\", params2)\n",
    "print(\"optim:\", optim2)"
   ]
  },
  {
   "cell_type": "markdown",
   "id": "0648d94e",
   "metadata": {},
   "source": [
    "Create a training function. Pay attention to the negative log-liklihood loss function, which is one ot the most common for classification."
   ]
  },
  {
   "cell_type": "code",
   "execution_count": 22,
   "id": "55a37336",
   "metadata": {},
   "outputs": [],
   "source": [
    "def train(epochs, model, torch_ref, optim, data_ptr, target_ptr):\n",
    "\n",
    "    losses = []\n",
    "\n",
    "    for i in range(epochs):\n",
    "\n",
    "        optim.zero_grad()\n",
    "\n",
    "        output = model(data_ptr)\n",
    "\n",
    "        loss = torch_ref.nn.functional.nll_loss(output, target_ptr.long()) #negative log-liklihood loss function\n",
    "\n",
    "        loss_item = loss.item()\n",
    "\n",
    "        loss_value = loss_item.get(\n",
    "            reason=\"To evaluate training progress\", request_block=True, timeout_secs=5\n",
    "        )\n",
    "\n",
    "        if i % 5 == 0:\n",
    "            print(\"Epoch\", i, \"loss\", loss_value)\n",
    "\n",
    "        losses.append(loss_value)\n",
    "\n",
    "        loss.backward()\n",
    "\n",
    "        optim.step()\n",
    "\n",
    "    return losses"
   ]
  },
  {
   "cell_type": "markdown",
   "id": "2a161e85",
   "metadata": {},
   "source": [
    "Train the models and plot the evolution of the losses"
   ]
  },
  {
   "cell_type": "code",
   "execution_count": 23,
   "id": "cb62f92d",
   "metadata": {},
   "outputs": [
    {
     "name": "stdout",
     "output_type": "stream",
     "text": [
      "Epoch 0 loss 1.1479991674423218\n",
      "Epoch 5 loss 0.4911544620990753\n",
      "Epoch 10 loss 0.34608474373817444\n",
      "Epoch 0 loss 1.1471866369247437\n",
      "Epoch 5 loss 0.4629819691181183\n",
      "Epoch 10 loss 0.3298319876194\n"
     ]
    }
   ],
   "source": [
    "epochs = 15\n",
    "losses1 = train(epochs, remote_model1, remote_torch1, optim1, data_ptr1, target_ptr1)\n",
    "losses2 = train(epochs, remote_model2, remote_torch2, optim2, data_ptr2, target_ptr2)"
   ]
  },
  {
   "cell_type": "code",
   "execution_count": 24,
   "id": "0a2e1d33",
   "metadata": {},
   "outputs": [
    {
     "data": {
      "image/png": "[encoded data removed]",
      "text/plain": [
       "<Figure size 720x936 with 2 Axes>"
      ]
     },
     "metadata": {
      "needs_background": "light"
     },
     "output_type": "display_data"
    }
   ],
   "source": [
    "plt.figure(1, figsize=(10, 13))\n",
    "plt.subplot(2, 1, 1) # row 1, col 2 index 1\n",
    "plt.plot(range(epochs), losses1)\n",
    "plt.title(\"Trained on DO1's data\")\n",
    "plt.xlabel('epoch')\n",
    "plt.ylabel('loss ')\n",
    "\n",
    "plt.subplot(2, 1, 2) # index 2\n",
    "plt.plot(range(epochs), losses2)\n",
    "plt.title(\"Trained on DO2's data\")\n",
    "plt.xlabel('Loss')\n",
    "plt.ylabel('epoch')\n",
    "\n",
    "plt.show()"
   ]
  },
  {
   "cell_type": "markdown",
   "id": "04746955",
   "metadata": {},
   "source": [
    "Now we will request parameters and updates for both  remote copies of our trained base model . Once again, we don't need to accept the requests since we used the handlers previously."
   ]
  },
  {
   "cell_type": "code",
   "execution_count": 25,
   "id": "b437eca3",
   "metadata": {},
   "outputs": [],
   "source": [
    "param1 = remote_model1.parameters().get(request_block=True)\n",
    "param2 = remote_model2.parameters().get(request_block=True)\n",
    "\n",
    "#print(\"Remote model1 parameters:\")\n",
    "#print(param1)\n",
    "#print()\n",
    "\n",
    "#print(\"Remote model2 parameters:\")\n",
    "#print(param2)"
   ]
  },
  {
   "cell_type": "code",
   "execution_count": 26,
   "id": "b41f51e5",
   "metadata": {},
   "outputs": [],
   "source": [
    "remote_model1_updates = remote_model1.get(\n",
    "    request_block=True\n",
    ").state_dict()\n",
    "#print(remote_model1_updates)\n",
    "\n",
    "remote_model2_updates = remote_model2.get(\n",
    "    request_block=True\n",
    ").state_dict()\n",
    "#print(remote_model2_updates)"
   ]
  },
  {
   "cell_type": "markdown",
   "id": "fc5aefa6",
   "metadata": {},
   "source": [
    "# Part 4: Aggregated Model\n",
    "Now we will do an aggregateegation of the weights. For this case, we will calculate the average of corresponding weights from each model. It should be noted that another interesting strategy is to use the ensamble method, meaning that since we have many (but in our case it is just two, which is not enough) we can use the real data on multiple models at once and provide an average as asn output."
   ]
  },
  {
   "cell_type": "code",
   "execution_count": 27,
   "id": "df737178",
   "metadata": {},
   "outputs": [],
   "source": [
    "avg_updates = OrderedDict()\n",
    "avg_updates[\"fc1.weight\"] = (\n",
    "    remote_model1_updates[\"fc1.weight\"] + remote_model2_updates[\"fc1.weight\"]\n",
    ") / 2\n",
    "avg_updates[\"fc1.bias\"] = (\n",
    "    remote_model1_updates[\"fc1.bias\"] + remote_model2_updates[\"fc1.bias\"]\n",
    ") / 2\n",
    "avg_updates[\"fc1_bn.weight\"] = (\n",
    "    remote_model1_updates[\"fc1_bn.weight\"] + remote_model2_updates[\"fc1_bn.weight\"]\n",
    ") / 2\n",
    "avg_updates[\"fc1_bn.bias\"] = (\n",
    "    remote_model1_updates[\"fc1_bn.bias\"] + remote_model2_updates[\"fc1_bn.bias\"]\n",
    ") / 2\n",
    "avg_updates[\"fc1_bn.running_mean\"] = (\n",
    "    remote_model1_updates[\"fc1_bn.running_mean\"] + remote_model2_updates[\"fc1_bn.running_mean\"]\n",
    ") / 2\n",
    "avg_updates[\"fc1_bn.running_var\"] = (\n",
    "    remote_model1_updates[\"fc1_bn.running_var\"] + remote_model2_updates[\"fc1_bn.running_var\"]\n",
    ") / 2\n",
    "avg_updates[\"fc1_bn.num_batches_tracked\"] = (\n",
    "    remote_model1_updates[\"fc1_bn.num_batches_tracked\"] + remote_model2_updates[\"fc1_bn.num_batches_tracked\"]\n",
    ") / 2\n",
    "\n",
    "avg_updates[\"fc2.weight\"] = (\n",
    "    remote_model1_updates[\"fc2.weight\"] + remote_model2_updates[\"fc2.weight\"]\n",
    ") / 2\n",
    "avg_updates[\"fc2.bias\"] = (\n",
    "    remote_model1_updates[\"fc2.bias\"] + remote_model2_updates[\"fc2.bias\"]\n",
    ") / 2\n",
    "avg_updates[\"fc2_bn.weight\"] = (\n",
    "    remote_model1_updates[\"fc2_bn.weight\"] + remote_model2_updates[\"fc2_bn.weight\"]\n",
    ") / 2\n",
    "avg_updates[\"fc2_bn.bias\"] = (\n",
    "    remote_model1_updates[\"fc2_bn.bias\"] + remote_model2_updates[\"fc2_bn.bias\"]\n",
    ") / 2\n",
    "avg_updates[\"fc2_bn.running_mean\"] = (\n",
    "    remote_model1_updates[\"fc2_bn.running_mean\"] + remote_model2_updates[\"fc2_bn.running_mean\"]\n",
    ") / 2\n",
    "avg_updates[\"fc2_bn.running_var\"] = (\n",
    "    remote_model1_updates[\"fc2_bn.running_var\"] + remote_model2_updates[\"fc2_bn.running_var\"]\n",
    ") / 2\n",
    "avg_updates[\"fc2_bn.num_batches_tracked\"] = (\n",
    "    remote_model1_updates[\"fc2_bn.num_batches_tracked\"] + remote_model2_updates[\"fc2_bn.num_batches_tracked\"]\n",
    ") / 2\n",
    "\n",
    "avg_updates[\"fc3.weight\"] = (\n",
    "    remote_model1_updates[\"fc3.weight\"] + remote_model2_updates[\"fc3.weight\"]\n",
    ") / 2\n",
    "avg_updates[\"fc3.bias\"] = (\n",
    "    remote_model1_updates[\"fc3.bias\"] + remote_model2_updates[\"fc3.bias\"]\n",
    ") / 2\n",
    "\n",
    "#print(avg_updates) "
   ]
  },
  {
   "cell_type": "code",
   "execution_count": 28,
   "id": "f426d411",
   "metadata": {},
   "outputs": [],
   "source": [
    "aggregated_model = SyNet(torch)"
   ]
  },
  {
   "cell_type": "code",
   "execution_count": 29,
   "id": "a8109cb5",
   "metadata": {},
   "outputs": [],
   "source": [
    "aggregated_model.load_state_dict(avg_updates)"
   ]
  },
  {
   "cell_type": "markdown",
   "id": "3d6b0e55",
   "metadata": {},
   "source": [
    "# Part 5: Testing\n",
    "We will use the separate data from an external .csv file to check the adequacy of our model "
   ]
  },
  {
   "cell_type": "code",
   "execution_count": 30,
   "id": "1ed09f9b",
   "metadata": {},
   "outputs": [
    {
     "data": {
      "text/html": [
       "<div>\n",
       "<style scoped>\n",
       "    .dataframe tbody tr th:only-of-type {\n",
       "        vertical-align: middle;\n",
       "    }\n",
       "\n",
       "    .dataframe tbody tr th {\n",
       "        vertical-align: top;\n",
       "    }\n",
       "\n",
       "    .dataframe thead th {\n",
       "        text-align: right;\n",
       "    }\n",
       "</style>\n",
       "<table border=\"1\" class=\"dataframe\">\n",
       "  <thead>\n",
       "    <tr style=\"text-align: right;\">\n",
       "      <th></th>\n",
       "      <th>Wine</th>\n",
       "      <th>Alcohol</th>\n",
       "      <th>Malic.acid</th>\n",
       "      <th>Ash</th>\n",
       "      <th>Acl</th>\n",
       "      <th>Mg</th>\n",
       "      <th>Phenols</th>\n",
       "      <th>Flavanoids</th>\n",
       "      <th>Nonflavanoid.phenols</th>\n",
       "      <th>Proanth</th>\n",
       "      <th>Color.int</th>\n",
       "      <th>Hue</th>\n",
       "      <th>OD</th>\n",
       "      <th>Proline</th>\n",
       "    </tr>\n",
       "  </thead>\n",
       "  <tbody>\n",
       "    <tr>\n",
       "      <th>0</th>\n",
       "      <td>0</td>\n",
       "      <td>13.24</td>\n",
       "      <td>3.98</td>\n",
       "      <td>2.29</td>\n",
       "      <td>17.5</td>\n",
       "      <td>103</td>\n",
       "      <td>2.64</td>\n",
       "      <td>2.63</td>\n",
       "      <td>0.32</td>\n",
       "      <td>1.66</td>\n",
       "      <td>4.36</td>\n",
       "      <td>0.82</td>\n",
       "      <td>3.00</td>\n",
       "      <td>680</td>\n",
       "    </tr>\n",
       "    <tr>\n",
       "      <th>1</th>\n",
       "      <td>0</td>\n",
       "      <td>14.38</td>\n",
       "      <td>3.59</td>\n",
       "      <td>2.28</td>\n",
       "      <td>16.0</td>\n",
       "      <td>102</td>\n",
       "      <td>3.25</td>\n",
       "      <td>3.17</td>\n",
       "      <td>0.27</td>\n",
       "      <td>2.19</td>\n",
       "      <td>4.90</td>\n",
       "      <td>1.04</td>\n",
       "      <td>3.44</td>\n",
       "      <td>1065</td>\n",
       "    </tr>\n",
       "    <tr>\n",
       "      <th>2</th>\n",
       "      <td>0</td>\n",
       "      <td>13.05</td>\n",
       "      <td>1.73</td>\n",
       "      <td>2.04</td>\n",
       "      <td>12.4</td>\n",
       "      <td>92</td>\n",
       "      <td>2.72</td>\n",
       "      <td>3.27</td>\n",
       "      <td>0.17</td>\n",
       "      <td>2.91</td>\n",
       "      <td>7.20</td>\n",
       "      <td>1.12</td>\n",
       "      <td>2.91</td>\n",
       "      <td>1150</td>\n",
       "    </tr>\n",
       "    <tr>\n",
       "      <th>3</th>\n",
       "      <td>0</td>\n",
       "      <td>13.82</td>\n",
       "      <td>1.75</td>\n",
       "      <td>2.42</td>\n",
       "      <td>14.0</td>\n",
       "      <td>111</td>\n",
       "      <td>3.88</td>\n",
       "      <td>3.74</td>\n",
       "      <td>0.32</td>\n",
       "      <td>1.87</td>\n",
       "      <td>7.05</td>\n",
       "      <td>1.01</td>\n",
       "      <td>3.26</td>\n",
       "      <td>1190</td>\n",
       "    </tr>\n",
       "    <tr>\n",
       "      <th>4</th>\n",
       "      <td>0</td>\n",
       "      <td>13.77</td>\n",
       "      <td>1.90</td>\n",
       "      <td>2.68</td>\n",
       "      <td>17.1</td>\n",
       "      <td>115</td>\n",
       "      <td>3.00</td>\n",
       "      <td>2.79</td>\n",
       "      <td>0.39</td>\n",
       "      <td>1.68</td>\n",
       "      <td>6.30</td>\n",
       "      <td>1.13</td>\n",
       "      <td>2.93</td>\n",
       "      <td>1375</td>\n",
       "    </tr>\n",
       "  </tbody>\n",
       "</table>\n",
       "</div>"
      ],
      "text/plain": [
       "   Wine  Alcohol  Malic.acid   Ash   Acl   Mg  Phenols  Flavanoids  \\\n",
       "0     0    13.24        3.98  2.29  17.5  103     2.64        2.63   \n",
       "1     0    14.38        3.59  2.28  16.0  102     3.25        3.17   \n",
       "2     0    13.05        1.73  2.04  12.4   92     2.72        3.27   \n",
       "3     0    13.82        1.75  2.42  14.0  111     3.88        3.74   \n",
       "4     0    13.77        1.90  2.68  17.1  115     3.00        2.79   \n",
       "\n",
       "   Nonflavanoid.phenols  Proanth  Color.int   Hue    OD  Proline  \n",
       "0                  0.32     1.66       4.36  0.82  3.00      680  \n",
       "1                  0.27     2.19       4.90  1.04  3.44     1065  \n",
       "2                  0.17     2.91       7.20  1.12  2.91     1150  \n",
       "3                  0.32     1.87       7.05  1.01  3.26     1190  \n",
       "4                  0.39     1.68       6.30  1.13  2.93     1375  "
      ]
     },
     "execution_count": 30,
     "metadata": {},
     "output_type": "execute_result"
    }
   ],
   "source": [
    "wine = pd.read_csv(\"./wine.csv\")\n",
    "wine.head()"
   ]
  },
  {
   "cell_type": "markdown",
   "id": "6e147cca",
   "metadata": {},
   "source": [
    "Separate features and labels"
   ]
  },
  {
   "cell_type": "code",
   "execution_count": 31,
   "id": "d76095d7",
   "metadata": {},
   "outputs": [],
   "source": [
    "X_test = wine.loc[:, wine.columns != \"Wine\"]\n",
    "y_test = wine[\"Wine\"]"
   ]
  },
  {
   "cell_type": "markdown",
   "id": "9b175cd2",
   "metadata": {},
   "source": [
    "Convert to tensors"
   ]
  },
  {
   "cell_type": "code",
   "execution_count": 32,
   "id": "7fd628ac",
   "metadata": {},
   "outputs": [],
   "source": [
    "X_test = torch.FloatTensor(np.array(X_test))\n",
    "y_test = torch.LongTensor(np.array(y_test))"
   ]
  },
  {
   "cell_type": "markdown",
   "id": "8694e57f",
   "metadata": {},
   "source": [
    "Save the predictions and get the accuracy"
   ]
  },
  {
   "cell_type": "code",
   "execution_count": 33,
   "id": "612add57",
   "metadata": {},
   "outputs": [
    {
     "name": "stdout",
     "output_type": "stream",
     "text": [
      "Prediction: 2 Ground Truth: 0\n",
      "Prediction: 0 Ground Truth: 0\n",
      "Prediction: 0 Ground Truth: 0\n",
      "Prediction: 0 Ground Truth: 0\n",
      "Prediction: 0 Ground Truth: 0\n",
      "Prediction: 0 Ground Truth: 0\n",
      "Prediction: 0 Ground Truth: 0\n",
      "Prediction: 1 Ground Truth: 1\n",
      "Prediction: 2 Ground Truth: 1\n",
      "Prediction: 1 Ground Truth: 1\n",
      "Prediction: 1 Ground Truth: 1\n",
      "Prediction: 1 Ground Truth: 1\n",
      "Prediction: 1 Ground Truth: 1\n",
      "Prediction: 1 Ground Truth: 1\n",
      "Prediction: 1 Ground Truth: 1\n",
      "Prediction: 2 Ground Truth: 2\n",
      "Prediction: 2 Ground Truth: 2\n",
      "Prediction: 0 Ground Truth: 2\n",
      "Prediction: 2 Ground Truth: 2\n",
      "Prediction: 2 Ground Truth: 2\n",
      "Prediction: 2 Ground Truth: 2\n",
      "Prediction: 2 Ground Truth: 2\n",
      "Prediction: 2 Ground Truth: 2\n",
      "Prediction: 0 Ground Truth: 2\n"
     ]
    }
   ],
   "source": [
    "preds = []\n",
    "aggregated_model.eval()\n",
    "with torch.no_grad():\n",
    "    for i in range(len(X_test)):\n",
    "        sample = X_test[i]\n",
    "        y_hat = aggregated_model(sample.unsqueeze(0))\n",
    "        pred = y_hat.argmax().item()\n",
    "        print(f\"Prediction: {pred} Ground Truth: {y_test[i]}\")\n",
    "        preds.append(pred)"
   ]
  },
  {
   "cell_type": "code",
   "execution_count": 34,
   "id": "af098489",
   "metadata": {},
   "outputs": [
    {
     "name": "stdout",
     "output_type": "stream",
     "text": [
      "Overall test accuracy 83.33333333333334\n"
     ]
    }
   ],
   "source": [
    "acc = accuracy_score(y_test, preds)\n",
    "print(\"Overall test accuracy\", acc * 100)"
   ]
  },
  {
   "cell_type": "markdown",
   "id": "846ba551",
   "metadata": {},
   "source": [
    "The final results are quite promising considering the simplicity of the model. We can further experiment on the different model configurations."
   ]
  }
 ],
 "metadata": {
  "kernelspec": {
   "display_name": "Python 3 (ipykernel)",
   "language": "python",
   "name": "python3"
  },
  "language_info": {
   "codemirror_mode": {
    "name": "ipython",
    "version": 3
   },
   "file_extension": ".py",
   "mimetype": "text/x-python",
   "name": "python",
   "nbconvert_exporter": "python",
   "pygments_lexer": "ipython3",
   "version": "3.9.7"
  }
 },
 "nbformat": 4,
 "nbformat_minor": 5
}
