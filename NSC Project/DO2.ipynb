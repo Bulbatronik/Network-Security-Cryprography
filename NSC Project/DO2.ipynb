{
 "cells": [
  {
   "cell_type": "markdown",
   "id": "50d3d25c",
   "metadata": {},
   "source": [
    "# Part 0: Setup Data Owner 2\n",
    "First of all we need to establish a connection between the points. Duet we will establish an P2P connecton. DS will be able to perform remore execurion on the DOs's data on the DS's machine."
   ]
  },
  {
   "cell_type": "markdown",
   "id": "cd827134",
   "metadata": {},
   "source": [
    "### 0.2 Lauch the server\n",
    "Now we do the same procedure as before. Keep in mind that you can simplify this part by using only one argument *loopback=True* in duet at the launch"
   ]
  },
  {
   "cell_type": "code",
   "execution_count": 1,
   "id": "ad16a757",
   "metadata": {},
   "outputs": [
    {
     "name": "stdout",
     "output_type": "stream",
     "text": [
      "🎤  🎸  ♪♪♪ Starting Duet ♫♫♫  🎻  🎹\n",
      "\n",
      "♫♫♫ >\u001b[93m DISCLAIMER\u001b[0m: \u001b[1mDuet is an experimental feature currently in beta.\n",
      "♫♫♫ > Use at your own risk.\n",
      "\u001b[0m\n",
      "\u001b[1m\n",
      "    > ❤️ \u001b[91mLove\u001b[0m \u001b[92mDuet\u001b[0m? \u001b[93mPlease\u001b[0m \u001b[94mconsider\u001b[0m \u001b[95msupporting\u001b[0m \u001b[91mour\u001b[0m \u001b[93mcommunity!\u001b[0m\n",
      "    > https://github.com/sponsors/OpenMined\u001b[1m\n",
      "\n",
      "♫♫♫ > Punching through firewall to OpenGrid Network Node at:\n",
      "♫♫♫ > http://ec2-3-15-165-254.us-east-2.compute.amazonaws.com:5000\n",
      "♫♫♫ >\n",
      "♫♫♫ > ...waiting for response from OpenGrid Network... \n",
      "♫♫♫ > \u001b[92mDONE!\u001b[0m\n",
      "♫♫♫ > Duet Server ID: \u001b[1mc42fcad4f6c305ad1921bf250a72048e\u001b[0m\n",
      "\n",
      "♫♫♫ > \u001b[95mSTEP 1:\u001b[0m Send the following code to your Duet Partner!\n",
      "\n",
      "import syft as sy\n",
      "duet = sy.duet(\"\u001b[1mc42fcad4f6c305ad1921bf250a72048e\u001b[0m\")\n",
      "\n",
      "♫♫♫ > \u001b[95mSTEP 2:\u001b[0m Ask your partner for their Client ID and enter it below!\n",
      "♫♫♫ > Duet Partner's Client ID: 8e1852e377bd999f66c3843a47574814\n",
      "\n",
      "♫♫♫ > Connecting...\n",
      "\n",
      "♫♫♫ > \u001b[92mCONNECTED!\u001b[0m\n",
      "\n",
      "♫♫♫ > DUET LIVE STATUS  *  Objects: 10  Requests: 0   Messages: 728  Request Handlers: 1                                                       \r"
     ]
    }
   ],
   "source": [
    "import syft as sy\n",
    "#duet = sy.duet(loopback=True)\n",
    "duet = sy.duet(network_url=\"http://ec2-3-15-165-254.us-east-2.compute.amazonaws.com:5000\")\n",
    "\n",
    "#\"http://ec2-18-218-7-180.us-east-2.compute.amazonaws.com:5000\"\n",
    "#\"http://ec2-3-138-111-189.us-east-2.compute.amazonaws.com:5000\"\n",
    "#\"http://ec2-3-15-165-254.us-east-2.compute.amazonaws.com:5000\""
   ]
  },
  {
   "cell_type": "markdown",
   "id": "1569caeb",
   "metadata": {},
   "source": [
    "#### Now return to the DS notebook to get and insert Server ID (Jump 0.4). Then come back to insert DS's ID (Jump 0.5). When the connection is established, get to the Part 1 in DO1 notebook (Jump 0.6)"
   ]
  },
  {
   "cell_type": "markdown",
   "id": "e1c513be",
   "metadata": {},
   "source": [
    "# Part 1: Data Prepreparation DO2"
   ]
  },
  {
   "cell_type": "markdown",
   "id": "256bfb48",
   "metadata": {},
   "source": [
    "### 1.3 Check the data ( DO2)\n",
    "Next we import the neccessary libraries. For this example we will use the wine dataset(https://scikit-learn.org/stable/modules/generated/sklearn.datasets.load_wine.html)."
   ]
  },
  {
   "cell_type": "code",
   "execution_count": 2,
   "id": "33e11e6d",
   "metadata": {},
   "outputs": [
    {
     "name": "stdout",
     "output_type": "stream",
     "text": [
      "♫♫♫ > DUET LIVE STATUS  -  Objects: 0  Requests: 0   Messages: 0  Request Handlers: 0                                \r"
     ]
    }
   ],
   "source": [
    "from sklearn import datasets\n",
    "from sklearn.model_selection import train_test_split\n",
    "import pandas as pd\n",
    "import torch as th"
   ]
  },
  {
   "cell_type": "markdown",
   "id": "c1040851",
   "metadata": {},
   "source": [
    "We split the data into the features (X) and the target labels (y). Than we convert it into a pandas dataframe in order to displey the data"
   ]
  },
  {
   "cell_type": "code",
   "execution_count": 3,
   "id": "8f96c154",
   "metadata": {},
   "outputs": [
    {
     "name": "stdout",
     "output_type": "stream",
     "text": [
      "alcohol                          13.015421\n",
      "malic_acid                        2.290935\n",
      "ash                               2.349533\n",
      "alcalinity_of_ash                19.062617\n",
      "magnesium                       100.915888\n",
      "total_phenols                     2.310561\n",
      "flavanoids                        2.085327\n",
      "nonflavanoid_phenols              0.360561\n",
      "proanthocyanins                   1.686355\n",
      "color_intensity                   5.012056\n",
      "hue                               0.950991\n",
      "od280/od315_of_diluted_wines      2.650467\n",
      "proline                         764.738318\n",
      "dtype: float64\n"
     ]
    },
    {
     "data": {
      "text/html": [
       "<div>\n",
       "<style scoped>\n",
       "    .dataframe tbody tr th:only-of-type {\n",
       "        vertical-align: middle;\n",
       "    }\n",
       "\n",
       "    .dataframe tbody tr th {\n",
       "        vertical-align: top;\n",
       "    }\n",
       "\n",
       "    .dataframe thead th {\n",
       "        text-align: right;\n",
       "    }\n",
       "</style>\n",
       "<table border=\"1\" class=\"dataframe\">\n",
       "  <thead>\n",
       "    <tr style=\"text-align: right;\">\n",
       "      <th></th>\n",
       "      <th>alcohol</th>\n",
       "      <th>malic_acid</th>\n",
       "      <th>ash</th>\n",
       "      <th>alcalinity_of_ash</th>\n",
       "      <th>magnesium</th>\n",
       "      <th>total_phenols</th>\n",
       "      <th>flavanoids</th>\n",
       "      <th>nonflavanoid_phenols</th>\n",
       "      <th>proanthocyanins</th>\n",
       "      <th>color_intensity</th>\n",
       "      <th>hue</th>\n",
       "      <th>od280/od315_of_diluted_wines</th>\n",
       "      <th>proline</th>\n",
       "    </tr>\n",
       "  </thead>\n",
       "  <tbody>\n",
       "    <tr>\n",
       "      <th>0</th>\n",
       "      <td>13.69</td>\n",
       "      <td>3.26</td>\n",
       "      <td>2.54</td>\n",
       "      <td>20.0</td>\n",
       "      <td>107.0</td>\n",
       "      <td>1.83</td>\n",
       "      <td>0.56</td>\n",
       "      <td>0.50</td>\n",
       "      <td>0.80</td>\n",
       "      <td>5.88</td>\n",
       "      <td>0.96</td>\n",
       "      <td>1.82</td>\n",
       "      <td>680.0</td>\n",
       "    </tr>\n",
       "    <tr>\n",
       "      <th>1</th>\n",
       "      <td>12.42</td>\n",
       "      <td>1.61</td>\n",
       "      <td>2.19</td>\n",
       "      <td>22.5</td>\n",
       "      <td>108.0</td>\n",
       "      <td>2.00</td>\n",
       "      <td>2.09</td>\n",
       "      <td>0.34</td>\n",
       "      <td>1.61</td>\n",
       "      <td>2.06</td>\n",
       "      <td>1.06</td>\n",
       "      <td>2.96</td>\n",
       "      <td>345.0</td>\n",
       "    </tr>\n",
       "    <tr>\n",
       "      <th>2</th>\n",
       "      <td>13.64</td>\n",
       "      <td>3.10</td>\n",
       "      <td>2.56</td>\n",
       "      <td>15.2</td>\n",
       "      <td>116.0</td>\n",
       "      <td>2.70</td>\n",
       "      <td>3.03</td>\n",
       "      <td>0.17</td>\n",
       "      <td>1.66</td>\n",
       "      <td>5.10</td>\n",
       "      <td>0.96</td>\n",
       "      <td>3.36</td>\n",
       "      <td>845.0</td>\n",
       "    </tr>\n",
       "    <tr>\n",
       "      <th>3</th>\n",
       "      <td>12.21</td>\n",
       "      <td>1.19</td>\n",
       "      <td>1.75</td>\n",
       "      <td>16.8</td>\n",
       "      <td>151.0</td>\n",
       "      <td>1.85</td>\n",
       "      <td>1.28</td>\n",
       "      <td>0.14</td>\n",
       "      <td>2.50</td>\n",
       "      <td>2.85</td>\n",
       "      <td>1.28</td>\n",
       "      <td>3.07</td>\n",
       "      <td>718.0</td>\n",
       "    </tr>\n",
       "    <tr>\n",
       "      <th>4</th>\n",
       "      <td>13.77</td>\n",
       "      <td>1.90</td>\n",
       "      <td>2.68</td>\n",
       "      <td>17.1</td>\n",
       "      <td>115.0</td>\n",
       "      <td>3.00</td>\n",
       "      <td>2.79</td>\n",
       "      <td>0.39</td>\n",
       "      <td>1.68</td>\n",
       "      <td>6.30</td>\n",
       "      <td>1.13</td>\n",
       "      <td>2.93</td>\n",
       "      <td>1375.0</td>\n",
       "    </tr>\n",
       "    <tr>\n",
       "      <th>...</th>\n",
       "      <td>...</td>\n",
       "      <td>...</td>\n",
       "      <td>...</td>\n",
       "      <td>...</td>\n",
       "      <td>...</td>\n",
       "      <td>...</td>\n",
       "      <td>...</td>\n",
       "      <td>...</td>\n",
       "      <td>...</td>\n",
       "      <td>...</td>\n",
       "      <td>...</td>\n",
       "      <td>...</td>\n",
       "      <td>...</td>\n",
       "    </tr>\n",
       "    <tr>\n",
       "      <th>102</th>\n",
       "      <td>13.68</td>\n",
       "      <td>1.83</td>\n",
       "      <td>2.36</td>\n",
       "      <td>17.2</td>\n",
       "      <td>104.0</td>\n",
       "      <td>2.42</td>\n",
       "      <td>2.69</td>\n",
       "      <td>0.42</td>\n",
       "      <td>1.97</td>\n",
       "      <td>3.84</td>\n",
       "      <td>1.23</td>\n",
       "      <td>2.87</td>\n",
       "      <td>990.0</td>\n",
       "    </tr>\n",
       "    <tr>\n",
       "      <th>103</th>\n",
       "      <td>13.16</td>\n",
       "      <td>3.57</td>\n",
       "      <td>2.15</td>\n",
       "      <td>21.0</td>\n",
       "      <td>102.0</td>\n",
       "      <td>1.50</td>\n",
       "      <td>0.55</td>\n",
       "      <td>0.43</td>\n",
       "      <td>1.30</td>\n",
       "      <td>4.00</td>\n",
       "      <td>0.60</td>\n",
       "      <td>1.68</td>\n",
       "      <td>830.0</td>\n",
       "    </tr>\n",
       "    <tr>\n",
       "      <th>104</th>\n",
       "      <td>13.07</td>\n",
       "      <td>1.50</td>\n",
       "      <td>2.10</td>\n",
       "      <td>15.5</td>\n",
       "      <td>98.0</td>\n",
       "      <td>2.40</td>\n",
       "      <td>2.64</td>\n",
       "      <td>0.28</td>\n",
       "      <td>1.37</td>\n",
       "      <td>3.70</td>\n",
       "      <td>1.18</td>\n",
       "      <td>2.69</td>\n",
       "      <td>1020.0</td>\n",
       "    </tr>\n",
       "    <tr>\n",
       "      <th>105</th>\n",
       "      <td>13.05</td>\n",
       "      <td>3.86</td>\n",
       "      <td>2.32</td>\n",
       "      <td>22.5</td>\n",
       "      <td>85.0</td>\n",
       "      <td>1.65</td>\n",
       "      <td>1.59</td>\n",
       "      <td>0.61</td>\n",
       "      <td>1.62</td>\n",
       "      <td>4.80</td>\n",
       "      <td>0.84</td>\n",
       "      <td>2.01</td>\n",
       "      <td>515.0</td>\n",
       "    </tr>\n",
       "    <tr>\n",
       "      <th>106</th>\n",
       "      <td>12.58</td>\n",
       "      <td>1.29</td>\n",
       "      <td>2.10</td>\n",
       "      <td>20.0</td>\n",
       "      <td>103.0</td>\n",
       "      <td>1.48</td>\n",
       "      <td>0.58</td>\n",
       "      <td>0.53</td>\n",
       "      <td>1.40</td>\n",
       "      <td>7.60</td>\n",
       "      <td>0.58</td>\n",
       "      <td>1.55</td>\n",
       "      <td>640.0</td>\n",
       "    </tr>\n",
       "  </tbody>\n",
       "</table>\n",
       "<p>107 rows × 13 columns</p>\n",
       "</div>"
      ],
      "text/plain": [
       "     alcohol  malic_acid   ash  alcalinity_of_ash  magnesium  total_phenols  \\\n",
       "0      13.69        3.26  2.54               20.0      107.0           1.83   \n",
       "1      12.42        1.61  2.19               22.5      108.0           2.00   \n",
       "2      13.64        3.10  2.56               15.2      116.0           2.70   \n",
       "3      12.21        1.19  1.75               16.8      151.0           1.85   \n",
       "4      13.77        1.90  2.68               17.1      115.0           3.00   \n",
       "..       ...         ...   ...                ...        ...            ...   \n",
       "102    13.68        1.83  2.36               17.2      104.0           2.42   \n",
       "103    13.16        3.57  2.15               21.0      102.0           1.50   \n",
       "104    13.07        1.50  2.10               15.5       98.0           2.40   \n",
       "105    13.05        3.86  2.32               22.5       85.0           1.65   \n",
       "106    12.58        1.29  2.10               20.0      103.0           1.48   \n",
       "\n",
       "     flavanoids  nonflavanoid_phenols  proanthocyanins  color_intensity   hue  \\\n",
       "0          0.56                  0.50             0.80             5.88  0.96   \n",
       "1          2.09                  0.34             1.61             2.06  1.06   \n",
       "2          3.03                  0.17             1.66             5.10  0.96   \n",
       "3          1.28                  0.14             2.50             2.85  1.28   \n",
       "4          2.79                  0.39             1.68             6.30  1.13   \n",
       "..          ...                   ...              ...              ...   ...   \n",
       "102        2.69                  0.42             1.97             3.84  1.23   \n",
       "103        0.55                  0.43             1.30             4.00  0.60   \n",
       "104        2.64                  0.28             1.37             3.70  1.18   \n",
       "105        1.59                  0.61             1.62             4.80  0.84   \n",
       "106        0.58                  0.53             1.40             7.60  0.58   \n",
       "\n",
       "     od280/od315_of_diluted_wines  proline  \n",
       "0                            1.82    680.0  \n",
       "1                            2.96    345.0  \n",
       "2                            3.36    845.0  \n",
       "3                            3.07    718.0  \n",
       "4                            2.93   1375.0  \n",
       "..                            ...      ...  \n",
       "102                          2.87    990.0  \n",
       "103                          1.68    830.0  \n",
       "104                          2.69   1020.0  \n",
       "105                          2.01    515.0  \n",
       "106                          1.55    640.0  \n",
       "\n",
       "[107 rows x 13 columns]"
      ]
     },
     "execution_count": 3,
     "metadata": {},
     "output_type": "execute_result"
    }
   ],
   "source": [
    "wine = datasets.load_wine()\n",
    "_, X2, _, y2 = train_test_split(wine.data, wine.target, test_size=0.6, random_state=1)\n",
    "print(pd.DataFrame(X2, columns=wine.feature_names).mean())\n",
    "pd.DataFrame(X2, columns=wine.feature_names)"
   ]
  },
  {
   "cell_type": "markdown",
   "id": "5e3bc477",
   "metadata": {},
   "source": [
    "### 1.4 Woking with Pysyft ( DO2)\n",
    "The important part is that PySyft is designed to work with tensors. Fortunately, there are several libraries in python, such as Pytorch, which are very well designed to work with them. So, what we need to do is to convert the data into tensors to work with it.\n"
   ]
  },
  {
   "cell_type": "code",
   "execution_count": 4,
   "id": "531a97d8",
   "metadata": {},
   "outputs": [
    {
     "name": "stdout",
     "output_type": "stream",
     "text": [
      "Length of dataset: 107\n"
     ]
    }
   ],
   "source": [
    "X2 = th.FloatTensor(X2)\n",
    "y2 = th.FloatTensor(y2)\n",
    "print(\"Length of dataset:\", len(X2))"
   ]
  },
  {
   "cell_type": "markdown",
   "id": "0988a0d0",
   "metadata": {},
   "source": [
    "Even though we try to preserve privacy as much as possible, the DS, obviously, must know what kind of data he is supposed to work with. We will provide some description to the data and the tags, which the DS will use to refer to the data."
   ]
  },
  {
   "cell_type": "code",
   "execution_count": 5,
   "id": "ce31e4bd",
   "metadata": {},
   "outputs": [],
   "source": [
    "X2 = X2.tag(\"Wine-data\")\n",
    "y2 = y2.tag(\"Wine-labels\")\n",
    "\n",
    "X2 = X2.describe(\n",
    "    \"Wine quality dataset #2 with 13 features (Alcohol, Malic acid, Ash, Alcalinity of ash, Magnesium, Total phenols, Flavanoids, Nonflavanoid phenols, Proanthocyanins, Color intensity, Hue, OD280/OD315 of diluted wines, Proline)\")\n",
    "y2 = y2.describe(\"Labels for wine: class_0, class_1, class_2\")"
   ]
  },
  {
   "cell_type": "markdown",
   "id": "3f406cba",
   "metadata": {},
   "source": [
    "Next step is to upload the data to the Duet server and create pointers to the data. So every time the DS will want to use somehow the data, we will recieve a notification which we can accept or reject, meaning that the DS can not use the data without our permission. "
   ]
  },
  {
   "cell_type": "code",
   "execution_count": 6,
   "id": "b023c2bb",
   "metadata": {},
   "outputs": [],
   "source": [
    "data_pointer2 = X2.send(duet, pointable=True)#searchable=True\n",
    "target_pointer2 = y2.send(duet, pointable=True)#searchable=True"
   ]
  },
  {
   "cell_type": "code",
   "execution_count": 7,
   "id": "9db62006",
   "metadata": {},
   "outputs": [
    {
     "data": {
      "text/plain": [
       "[<syft.proxy.torch.TensorPointer object at 0x000001C3145DE970>, <syft.proxy.torch.TensorPointer object at 0x000001C3145DEB80>]"
      ]
     },
     "execution_count": 7,
     "metadata": {},
     "output_type": "execute_result"
    }
   ],
   "source": [
    "# Data owner 2 can verify that the object stored in the tensor\n",
    "duet.store"
   ]
  },
  {
   "cell_type": "markdown",
   "id": "6e2d837e",
   "metadata": {},
   "source": [
    "Similarly to the dataframe format in pandas, we display an information about the tensors."
   ]
  },
  {
   "cell_type": "code",
   "execution_count": 8,
   "id": "f70f6f57",
   "metadata": {},
   "outputs": [
    {
     "data": {
      "text/html": [
       "<div>\n",
       "<style scoped>\n",
       "    .dataframe tbody tr th:only-of-type {\n",
       "        vertical-align: middle;\n",
       "    }\n",
       "\n",
       "    .dataframe tbody tr th {\n",
       "        vertical-align: top;\n",
       "    }\n",
       "\n",
       "    .dataframe thead th {\n",
       "        text-align: right;\n",
       "    }\n",
       "</style>\n",
       "<table border=\"1\" class=\"dataframe\">\n",
       "  <thead>\n",
       "    <tr style=\"text-align: right;\">\n",
       "      <th></th>\n",
       "      <th>ID</th>\n",
       "      <th>Tags</th>\n",
       "      <th>Description</th>\n",
       "      <th>object_type</th>\n",
       "    </tr>\n",
       "  </thead>\n",
       "  <tbody>\n",
       "    <tr>\n",
       "      <th>0</th>\n",
       "      <td>&lt;UID: 602738e8807e4eb08ea630794820f471&gt;</td>\n",
       "      <td>[Wine-data]</td>\n",
       "      <td>Wine quality dataset #2 with 13 features (Alco...</td>\n",
       "      <td>&lt;class 'torch.Tensor'&gt;</td>\n",
       "    </tr>\n",
       "    <tr>\n",
       "      <th>1</th>\n",
       "      <td>&lt;UID: 885d601cf5644ebd9a1efcf46144bd9e&gt;</td>\n",
       "      <td>[Wine-labels]</td>\n",
       "      <td>Labels for wine: class_0, class_1, class_2</td>\n",
       "      <td>&lt;class 'torch.Tensor'&gt;</td>\n",
       "    </tr>\n",
       "  </tbody>\n",
       "</table>\n",
       "</div>"
      ],
      "text/plain": [
       "                                        ID           Tags  \\\n",
       "0  <UID: 602738e8807e4eb08ea630794820f471>    [Wine-data]   \n",
       "1  <UID: 885d601cf5644ebd9a1efcf46144bd9e>  [Wine-labels]   \n",
       "\n",
       "                                         Description             object_type  \n",
       "0  Wine quality dataset #2 with 13 features (Alco...  <class 'torch.Tensor'>  \n",
       "1         Labels for wine: class_0, class_1, class_2  <class 'torch.Tensor'>  "
      ]
     },
     "execution_count": 8,
     "metadata": {},
     "output_type": "execute_result"
    },
    {
     "name": "stderr",
     "output_type": "stream",
     "text": [
      "[2022-04-22T18:18:01.897601+0200][CRITICAL][logger]][8456] You do not have permission to .get() Object with ID: <UID: 77a22d7279074758b0daca088b45956d>Please submit a request.\n",
      "[2022-04-22T18:18:01.899060+0200][CRITICAL][logger]][8456] You do not have permission to .get() Object with ID: <UID: 77a22d7279074758b0daca088b45956d>Please submit a request.\n"
     ]
    }
   ],
   "source": [
    "duet.store.pandas"
   ]
  },
  {
   "cell_type": "markdown",
   "id": "4b8cbe2a",
   "metadata": {},
   "source": [
    "#### Now go and continue working with the DS notebook (Jump 1.2)"
   ]
  },
  {
   "cell_type": "markdown",
   "id": "42ff5445",
   "metadata": {},
   "source": [
    "# Part 2: Working With The Data (DO2)\n",
    "If we take a look at a DUET LIVE STATUS we will see that there is a request waiting for our approval. Let us check its content."
   ]
  },
  {
   "cell_type": "code",
   "execution_count": 9,
   "id": "8855c6c4",
   "metadata": {},
   "outputs": [
    {
     "data": {
      "text/html": [
       "<div>\n",
       "<style scoped>\n",
       "    .dataframe tbody tr th:only-of-type {\n",
       "        vertical-align: middle;\n",
       "    }\n",
       "\n",
       "    .dataframe tbody tr th {\n",
       "        vertical-align: top;\n",
       "    }\n",
       "\n",
       "    .dataframe thead th {\n",
       "        text-align: right;\n",
       "    }\n",
       "</style>\n",
       "<table border=\"1\" class=\"dataframe\">\n",
       "  <thead>\n",
       "    <tr style=\"text-align: right;\">\n",
       "      <th></th>\n",
       "      <th>Requested Object's tags</th>\n",
       "      <th>Reason</th>\n",
       "      <th>Request ID</th>\n",
       "      <th>Requested Object's ID</th>\n",
       "      <th>Requested Object's type</th>\n",
       "    </tr>\n",
       "  </thead>\n",
       "  <tbody>\n",
       "    <tr>\n",
       "      <th>0</th>\n",
       "      <td>[Wine-data, mean, __getitem__]</td>\n",
       "      <td>I would be very gratefull if you could possibl...</td>\n",
       "      <td>&lt;UID: 78dd3307835a4e7a9e0a4945e0db3dad&gt;</td>\n",
       "      <td>&lt;UID: 77a22d7279074758b0daca088b45956d&gt;</td>\n",
       "      <td></td>\n",
       "    </tr>\n",
       "  </tbody>\n",
       "</table>\n",
       "</div>"
      ],
      "text/plain": [
       "          Requested Object's tags  \\\n",
       "0  [Wine-data, mean, __getitem__]   \n",
       "\n",
       "                                              Reason  \\\n",
       "0  I would be very gratefull if you could possibl...   \n",
       "\n",
       "                                Request ID  \\\n",
       "0  <UID: 78dd3307835a4e7a9e0a4945e0db3dad>   \n",
       "\n",
       "                     Requested Object's ID Requested Object's type  \n",
       "0  <UID: 77a22d7279074758b0daca088b45956d>                          "
      ]
     },
     "execution_count": 9,
     "metadata": {},
     "output_type": "execute_result"
    }
   ],
   "source": [
    "duet.requests.pandas"
   ]
  },
  {
   "cell_type": "code",
   "execution_count": 10,
   "id": "f0c74c6f",
   "metadata": {},
   "outputs": [
    {
     "data": {
      "text/plain": [
       "'I would be very gratefull if you could possibly provide me the average alcohol for my research OwO'"
      ]
     },
     "execution_count": 10,
     "metadata": {},
     "output_type": "execute_result"
    }
   ],
   "source": [
    "duet.requests[0].request_description"
   ]
  },
  {
   "cell_type": "markdown",
   "id": "9d872387",
   "metadata": {},
   "source": [
    "The request looks reasonable and we accept it"
   ]
  },
  {
   "cell_type": "code",
   "execution_count": 11,
   "id": "9e7c105b",
   "metadata": {},
   "outputs": [],
   "source": [
    "duet.requests[0].accept()"
   ]
  },
  {
   "cell_type": "markdown",
   "id": "4233885b",
   "metadata": {},
   "source": [
    "#### Return to the DS notebook and proceed (Jump 2.4)"
   ]
  },
  {
   "cell_type": "markdown",
   "id": "940dc4a3",
   "metadata": {},
   "source": [
    "# Part 3: Creating and training the models (DO 2)"
   ]
  },
  {
   "cell_type": "markdown",
   "id": "9b6c7dfe",
   "metadata": {},
   "source": [
    "The DO can add requests to be accepted or denied by adding them to request handlers. On the contrrary, if we don't specify anyhing, than it means we are willing to accept everything"
   ]
  },
  {
   "cell_type": "code",
   "execution_count": 12,
   "id": "b16858d4",
   "metadata": {},
   "outputs": [],
   "source": [
    "duet.requests.add_handler(action=\"accept\")"
   ]
  },
  {
   "cell_type": "markdown",
   "id": "75abf7de",
   "metadata": {},
   "source": [
    "#### Get to the DS notebook (Jump 3.3)"
   ]
  }
 ],
 "metadata": {
  "kernelspec": {
   "display_name": "Python 3 (ipykernel)",
   "language": "python",
   "name": "python3"
  },
  "language_info": {
   "codemirror_mode": {
    "name": "ipython",
    "version": 3
   },
   "file_extension": ".py",
   "mimetype": "text/x-python",
   "name": "python",
   "nbconvert_exporter": "python",
   "pygments_lexer": "ipython3",
   "version": "3.9.7"
  }
 },
 "nbformat": 4,
 "nbformat_minor": 5
}
