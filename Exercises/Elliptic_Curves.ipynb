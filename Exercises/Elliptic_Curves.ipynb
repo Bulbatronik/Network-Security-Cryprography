{
 "cells": [
  {
   "cell_type": "markdown",
   "metadata": {
    "id": "GoWMvKIjmNYM"
   },
   "source": [
    "## Elliptic Curves"
   ]
  },
  {
   "cell_type": "code",
   "execution_count": 1,
   "metadata": {
    "id": "AclTP7SvmNYS"
   },
   "outputs": [],
   "source": [
    "from cryptography.hazmat.primitives import hashes\n",
    "from cryptography.hazmat.primitives.asymmetric import ec\n",
    "from cryptography.hazmat.primitives.asymmetric.utils import decode_dss_signature\n",
    "from cryptography.hazmat.primitives.serialization import (\n",
    "    Encoding, ParameterFormat, PublicFormat,\n",
    "    load_pem_parameters, load_pem_public_key\n",
    ")"
   ]
  },
  {
   "cell_type": "markdown",
   "metadata": {
    "id": "XWBcLaObmNYV"
   },
   "source": [
    "## ECDSA\n",
    "\n",
    "ECDSA is a Digital Signature Algorithm. "
   ]
  },
  {
   "cell_type": "markdown",
   "metadata": {
    "id": "NoeNF6vamNYW"
   },
   "source": [
    "We use NIST curve SECP384r1. The key size is 384 bits.\n",
    "There is no need to generate parameters, because the standard already provides the curve equation, a generator and its order.\n",
    "\n",
    "We proceed with the generation of a private key and of the corresponding public key."
   ]
  },
  {
   "cell_type": "code",
   "execution_count": 2,
   "metadata": {
    "id": "zUMdL3KPmNYX",
    "outputId": "72385d55-f74a-4746-bf00-5f227a657516"
   },
   "outputs": [
    {
     "name": "stdout",
     "output_type": "stream",
     "text": [
      "Private key is: 19247871699885200742221632137670209853809385049703980534742023400444596567752941680102241827796718446513207493497864\n"
     ]
    }
   ],
   "source": [
    "private_key = ec.generate_private_key( ec.SECP384R1() )# precomputed curve\n",
    "print(\"Private key is: %d\" % private_key.private_numbers().private_value)# private key - int in [0, order]"
   ]
  },
  {
   "cell_type": "code",
   "execution_count": null,
   "metadata": {
    "id": "vQlVPaBOmNYY"
   },
   "outputs": [],
   "source": [
    "# Alternatively we can generate a key from an integer number (eg 1234) by using\n",
    "# private_key = ec.derive_private_key( 1234, ec.SECP384R1() ) # provide your own number. Good not to store everything random"
   ]
  },
  {
   "cell_type": "code",
   "execution_count": 3,
   "metadata": {
    "id": "o_p0w0i6mNYZ",
    "outputId": "a15a9b22-17c9-4a91-f183-79e760f80bae"
   },
   "outputs": [
    {
     "name": "stdout",
     "output_type": "stream",
     "text": [
      "Public key is : (x = 15203351128299222528567889175835999860916913697209058137404867626405670645842333052321062351560357368804986968037752, y = 6126677711471697947955203283476180994852172108939647697378332648713716818233981584162154783778441127999668980056809)\n"
     ]
    }
   ],
   "source": [
    "public_key = private_key.public_key() # point with 2 coodrinates. Can be verified it belongs to the curve\n",
    "print(\"Public key is : (x = %s, y = %s)\" % (public_key.public_numbers().x,public_key.public_numbers().y))"
   ]
  },
  {
   "cell_type": "markdown",
   "metadata": {
    "id": "D99Zh0kDmNYa"
   },
   "source": [
    "Remember that the private key is an integer, while the public key is a point. Now we can sign a message.\n",
    "The signature will be encoded using the DER rules, so it will be a string of bits."
   ]
  },
  {
   "cell_type": "code",
   "execution_count": 7,
   "metadata": {
    "id": "oKvOaap_mNYb",
    "outputId": "8d59dfa9-b1f9-412e-b7e4-6df632c71a7b"
   },
   "outputs": [
    {
     "name": "stdout",
     "output_type": "stream",
     "text": [
      "b'0d\\x020G\\x19\\xc8\\xa3\\x85\\x1b\\x1f\\xf7\\x81\\x9bS\\xa6W\\xd1\\xbe\\xefu\\x89\\xe8\\xf8\\xebP\\xdb>\\xa5 \\x01\\xc1\\xb2Q\\x98&\\xf8\\x8a\\n\\xe5&j\\xadJ7\\xfc\\xad\\x9f\\x89`O?\\x020\\x02\\xa29pB\\xfe\\x113\\xc5]`\\xa70\\x83\\xc1\\x9d^m\\xea\\x16jl\\xae{\\x04\\x11\\t\\xd36Yt\\xb4\\xe6\\xe4sMa\\x18\\x1f\\xaf\\x92\\x8c\\x16\\x9e\\xffl\\xe5\\x11'\n"
     ]
    }
   ],
   "source": [
    "data = b\"this is some data I'd like to sign\"#array of bytes\n",
    "signature = private_key.sign(\n",
    "    data,\n",
    "    ec.ECDSA(hashes.SHA256())#hash functions\n",
    "    )\n",
    "#print(signature.hex())\n",
    "print(signature)"
   ]
  },
  {
   "cell_type": "markdown",
   "metadata": {
    "id": "8LkoHmaymNYc"
   },
   "source": [
    "The DSA signature is randomized, so if we run the algorithm again we get a different signature. The interface does not ask for a nonce, so we cannot make the mistake of providing repeated nonces."
   ]
  },
  {
   "cell_type": "code",
   "execution_count": 8,
   "metadata": {
    "id": "B2zhMKjamNYd",
    "outputId": "a5573d3d-be29-4a85-dcf1-f6701fb6131d"
   },
   "outputs": [
    {
     "name": "stdout",
     "output_type": "stream",
     "text": [
      "b\"0d\\x020M\\xb4R\\xa51\\x97xC\\x8b\\xddX<\\x07(w\\x81\\xf0Z\\x88\\x172\\xed\\xe8\\xe6\\xb5\\xea\\xd2s\\x8d\\x1b{\\x98\\x9d\\t\\xdfe\\xf4:D\\xc8pc'\\x07\\xee{(\\xb9\\x020'\\xd0\\xf9&\\xe3\\xd6\\xab&\\x87\\x89\\xed\\xacx\\xd7$JO\\xeb\\xc9\\xf1\\xf3K5\\xcd\\x85;i\\xee<\\x07\\xc1\\x873\\x8fn\\x80\\xbeLU-V\\x10r\\xf1\\x85\\x8d\\xc3+\"\n"
     ]
    }
   ],
   "source": [
    "signature = private_key.sign(\n",
    "    data,\n",
    "    ec.ECDSA(hashes.SHA256())\n",
    "    )\n",
    "#print(signature.hex())\n",
    "print(signature)"
   ]
  },
  {
   "cell_type": "markdown",
   "metadata": {
    "id": "svQIGA2PmNYe"
   },
   "source": [
    "We can decode the signature and retrieve the parameters $r$ and $s$"
   ]
  },
  {
   "cell_type": "code",
   "execution_count": 9,
   "metadata": {
    "id": "B9nIWK9DmNYf",
    "outputId": "fa256261-98ab-4dfb-8a88-7edb1cb967cd"
   },
   "outputs": [
    {
     "name": "stdout",
     "output_type": "stream",
     "text": [
      "r = 11959799614451532424152901725618649100224261981710458319724022381395289787848572714581783146929493417497669117094073\n",
      "s = 6128289720809215905962208042106446741458331579084670713789499687391736407717188313376675316944944261364225649001259\n"
     ]
    }
   ],
   "source": [
    "(r,s)=decode_dss_signature(signature)\n",
    "print(\"r = %d\\ns = %d\" % (r,s) )"
   ]
  },
  {
   "cell_type": "markdown",
   "metadata": {
    "id": "OH6QO9aPmNYf"
   },
   "source": [
    "We can verify the signature using the public key. If the signature is wrong, we get an exception"
   ]
  },
  {
   "cell_type": "code",
   "execution_count": 10,
   "metadata": {
    "id": "PkDk-N5nmNYg",
    "outputId": "5d50b762-5937-4ee6-ed40-0f4b922c6693"
   },
   "outputs": [
    {
     "name": "stdout",
     "output_type": "stream",
     "text": [
      "OK\n"
     ]
    }
   ],
   "source": [
    "try:\n",
    "    public_key.verify(signature,data,ec.ECDSA(hashes.SHA256()))\n",
    "    print(\"OK\")\n",
    "except:\n",
    "    print(\"KO\")"
   ]
  },
  {
   "cell_type": "markdown",
   "metadata": {
    "id": "dmCBsZn-mNYg"
   },
   "source": [
    "## Lab"
   ]
  },
  {
   "cell_type": "markdown",
   "metadata": {
    "id": "tYeveiEVmNYg"
   },
   "source": [
    "Find a classmate. One plays as Alice, the other plays as Bob.\n",
    "Alice and Bob generate their keys from secret numbers and have published the corresponding public key.\n",
    "\n",
    "Alice must prove to Bob that she is Alice.\n",
    "She derives her private key from her secret number and signs a message.\n",
    "Then she sends to Bob the message and the signature.\n",
    "Bob verifies the signature using Alice's public key.\n",
    "\n",
    "Bob proves his identity to Alice in the same way."
   ]
  },
  {
   "cell_type": "code",
   "execution_count": null,
   "metadata": {
    "id": "LIPbXVyVmNYh"
   },
   "outputs": [],
   "source": [
    "# Alice\n",
    "Alice_secret_number = 1234\n",
    "Alice_serialized_public_key = b'-----BEGIN PUBLIC KEY-----\\nMHYwEAYHKoZIzj0CAQYFK4EEACIDYgAEe2FShOUqdr8UOfiRMoGoEdS7PY4quCzZ\\nprCsAxK1ft1/zoRprQ4Jsxul09T4aB2hG32SVNtusdPAn8ziDFnNH4rCtVJedReL\\nURy3R3RY1EqiZ/y6ZLLo7NWdnbXWvQ7C\\n-----END PUBLIC KEY-----\\n'\n",
    "Alice_message = b\"I'm Alice\"\n",
    "# I will give you a signed by me your message->give you the sign->you verify using my public key\n",
    "\n",
    "# You can load the other party's public key with\n",
    "# remote_public_key = load_pem_public_key( serialized_public_key )"
   ]
  },
  {
   "cell_type": "code",
   "execution_count": null,
   "metadata": {
    "id": "7hyltGo7mNYh"
   },
   "outputs": [],
   "source": [
    "# Bob\n",
    "Bob_secret_number = 4321\n",
    "Bob_serialized_public_key = b'-----BEGIN PUBLIC KEY-----\\nMHYwEAYHKoZIzj0CAQYFK4EEACIDYgAENyisOoDb9lce4qW9DP+LueJUDXeCm89Y\\n5ZYW0sx50UdwMwgWWk+HMNfct+tBW9AY2jqMRCPJgyIu9BucU38JuwchT6gsZrQi\\nRJTXpndZMbKHD6j31yyaSZ2j9nGxNXkO\\n-----END PUBLIC KEY-----\\n'\n",
    "Bob_message = b\"I'm Bob\"\n",
    "\n",
    "# You can load the other party's public key with\n",
    "# remote_public_key = load_pem_public_key( serialized_public_key )"
   ]
  }
 ],
 "metadata": {
  "colab": {
   "name": "Elliptic Curves.ipynb",
   "provenance": []
  },
  "kernelspec": {
   "display_name": "Python 3 (ipykernel)",
   "language": "python",
   "name": "python3"
  },
  "language_info": {
   "codemirror_mode": {
    "name": "ipython",
    "version": 3
   },
   "file_extension": ".py",
   "mimetype": "text/x-python",
   "name": "python",
   "nbconvert_exporter": "python",
   "pygments_lexer": "ipython3",
   "version": "3.9.7"
  }
 },
 "nbformat": 4,
 "nbformat_minor": 1
}
