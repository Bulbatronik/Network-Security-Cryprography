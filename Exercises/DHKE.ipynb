{
 "cells": [
  {
   "cell_type": "markdown",
   "metadata": {},
   "source": [
    "# Diffie-Hellman Key Exchange"
   ]
  },
  {
   "cell_type": "code",
   "execution_count": 27,
   "metadata": {},
   "outputs": [],
   "source": [
    "from cryptography.hazmat.primitives import hashes\n",
    "from cryptography.hazmat.primitives.asymmetric import dh\n",
    "from cryptography.hazmat.primitives.kdf.hkdf import HKDF\n",
    "from cryptography.hazmat.primitives.serialization import (\n",
    "    Encoding, ParameterFormat, PublicFormat,\n",
    "    load_pem_parameters, load_pem_public_key\n",
    ")"
   ]
  },
  {
   "cell_type": "markdown",
   "metadata": {},
   "source": [
    "We play Alice and generate the parameters ($p$, $g$, $q$)"
   ]
  },
  {
   "cell_type": "code",
   "execution_count": 28,
   "metadata": {},
   "outputs": [],
   "source": [
    "parameters = dh.generate_parameters(generator=2, key_size=1024)#generate the key"
   ]
  },
  {
   "cell_type": "code",
   "execution_count": 36,
   "metadata": {},
   "outputs": [],
   "source": [
    "# This is the parameter string to send to Bob \n",
    "# Bob can load with\n",
    "# LAB\n",
    "parameters = load_pem_parameters(b'-----BEGIN DH PARAMETERS-----\\nMIGHAoGBAKrUaGpAUujNPwweMrJy3oBRqXlDjtXmuel5F46JlYZcNUBGpfUNDKu0\\n8Z/gABqr2Clzho923asWvw/xbYbsv2cGUBOgQOC1k0aRQ7YWp6un10cgUnlcw9Nw\\n4GizCAkR8GZ0jzcsQib98IGaY2mxvyXkGzaWZPOIK1WnY76DX7sXAgEC\\n-----END DH PARAMETERS-----\\n') # FOR THE OTTHER SIDE\n",
    "#parameters = load_pem_parameters(\"...string...\") # FOR THE OTTHER SIDE\n",
    "\n",
    "#parameters.parameter_bytes(Encoding.PEM,ParameterFormat.PKCS3)#transform the param to insert them into a payload -> list of bits\n",
    "# PAM can be printed -> advantage"
   ]
  },
  {
   "cell_type": "code",
   "execution_count": 30,
   "metadata": {},
   "outputs": [],
   "source": [
    "# Now generate the private key\n",
    "private_key = parameters.generate_private_key()"
   ]
  },
  {
   "cell_type": "code",
   "execution_count": 37,
   "metadata": {},
   "outputs": [],
   "source": [
    "# This is the public key to send to Bob \n",
    "# Bob can load with\n",
    "#LAB\n",
    "key_a = load_pem_public_key(b'-----BEGIN PUBLIC KEY-----\\nMIIBIDCBlQYJKoZIhvcNAQMBMIGHAoGBAKrUaGpAUujNPwweMrJy3oBRqXlDjtXm\\nuel5F46JlYZcNUBGpfUNDKu08Z/gABqr2Clzho923asWvw/xbYbsv2cGUBOgQOC1\\nk0aRQ7YWp6un10cgUnlcw9Nw4GizCAkR8GZ0jzcsQib98IGaY2mxvyXkGzaWZPOI\\nK1WnY76DX7sXAgECA4GFAAKBgQCkOgPpxDuzG12v+JZlsc2dK5df2wAMTveEvPdZ\\nY5egN0qmkZ3OqCAg9eSsQhjZ5E6GN9uNBaWAYP1ExJeBmSmWT02/UrvIoJILykmE\\nj36U6dj/rdrIF08G9z8iNY5TzwuZaY6X7u8Z6XuWi4NbHGH0vVaCFFrv4Q8KbjaL\\nWByy2g==\\n-----END PUBLIC KEY-----\\n') \n",
    "# parameters = load_pem_public_key(\"...string...\") \n",
    "#private_key.public_key().public_bytes(Encoding.PEM,PublicFormat.SubjectPublicKeyInfo)"
   ]
  },
  {
   "cell_type": "code",
   "execution_count": 38,
   "metadata": {},
   "outputs": [],
   "source": [
    "# Here we should load Bob's public key with\n",
    "# bob_public_key = load_pem_public_key(\"...string...\")\n",
    "# Since we do not have Bob, we generate Bob's key locally\n",
    "bob_private_key = parameters.generate_private_key()\n",
    "bob_public_key = bob_private_key.public_key()"
   ]
  },
  {
   "cell_type": "code",
   "execution_count": 45,
   "metadata": {},
   "outputs": [
    {
     "data": {
      "text/plain": [
       "b'-----BEGIN PUBLIC KEY-----\\nMIIBIDCBlQYJKoZIhvcNAQMBMIGHAoGBAKrUaGpAUujNPwweMrJy3oBRqXlDjtXm\\nuel5F46JlYZcNUBGpfUNDKu08Z/gABqr2Clzho923asWvw/xbYbsv2cGUBOgQOC1\\nk0aRQ7YWp6un10cgUnlcw9Nw4GizCAkR8GZ0jzcsQib98IGaY2mxvyXkGzaWZPOI\\nK1WnY76DX7sXAgECA4GFAAKBgQCo/C/q5uVhji+S+2jpp3C/AExVp7Eu4UHjaW9D\\n8/05uzUKHzx46IG2x0z3Ol3L0IByqfBpqidXZ6+H8d1bK06EVLA2fsQFSJdSiRjZ\\n9lpCIcWoDx7f7X8HgTCxqLLYbDft+QMP3eUi/BQTq2iuGQyntHt9ge/LWafXCd94\\nYWbfog==\\n-----END PUBLIC KEY-----\\n'"
      ]
     },
     "execution_count": 45,
     "metadata": {},
     "output_type": "execute_result"
    }
   ],
   "source": [
    "bob_public_key.public_bytes(Encoding.PEM,PublicFormat.SubjectPublicKeyInfo)"
   ]
  },
  {
   "cell_type": "code",
   "execution_count": 42,
   "metadata": {},
   "outputs": [],
   "source": [
    "# This is the shared group element\n",
    "shared_key = bob_private_key.exchange(key_a)# LOCAL, REMOTE -> SHARED KEY"
   ]
  },
  {
   "cell_type": "code",
   "execution_count": 43,
   "metadata": {},
   "outputs": [
    {
     "data": {
      "text/plain": [
       "b'0f\\x82u\\x03\\x91\\xa9\\xea\\xc6Q*\\xb9\\xef\\x03mB{E\\xfc\\x93\\x94Jx\\xa80C\\xfa\\xf7\\x9fP\\xcd-'"
      ]
     },
     "execution_count": 43,
     "metadata": {},
     "output_type": "execute_result"
    }
   ],
   "source": [
    "# This is the shared key\n",
    "# You can use derived_key to encrypt a message using any symmetric cipher\n",
    "# If possible prefer an authenticated\n",
    "derived_key = HKDF(# obtain a tring of bits to be used as a real key\n",
    "    algorithm=hashes.SHA256(),\n",
    "    length=32,\n",
    "    salt=None,\n",
    "    info=b'some shared data',\n",
    ").derive(shared_key)\n",
    "derived_key # use in a symmetric encryption (AES) "
   ]
  },
  {
   "cell_type": "markdown",
   "metadata": {},
   "source": [
    "## Laboratory"
   ]
  },
  {
   "cell_type": "markdown",
   "metadata": {},
   "source": [
    "Pick a classmate, decide who's Alice and who's Bob. Generate a key and send a message.\n",
    "You can use email or chat to exchange the protocol messages."
   ]
  }
 ],
 "metadata": {
  "kernelspec": {
   "display_name": "Python 3 (ipykernel)",
   "language": "python",
   "name": "python3"
  },
  "language_info": {
   "codemirror_mode": {
    "name": "ipython",
    "version": 3
   },
   "file_extension": ".py",
   "mimetype": "text/x-python",
   "name": "python",
   "nbconvert_exporter": "python",
   "pygments_lexer": "ipython3",
   "version": "3.9.7"
  }
 },
 "nbformat": 4,
 "nbformat_minor": 2
}
