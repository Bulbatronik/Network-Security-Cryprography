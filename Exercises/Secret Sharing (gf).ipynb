{
 "cells": [
  {
   "cell_type": "markdown",
   "metadata": {},
   "source": [
    "# Secret Sharing"
   ]
  },
  {
   "cell_type": "code",
   "execution_count": 4,
   "metadata": {},
   "outputs": [
    {
     "name": "stdout",
     "output_type": "stream",
     "text": [
      "Collecting pycryptodomex\n",
      "  Using cached pycryptodomex-3.14.1-cp35-abi3-win_amd64.whl (1.8 MB)\n",
      "Installing collected packages: pycryptodomex\n",
      "Successfully installed pycryptodomex-3.14.1\n"
     ]
    }
   ],
   "source": [
    "# Uncomment and execute the last line\n",
    "# if the pycryptodomex package is missing \n",
    "!pip install pycryptodomex"
   ]
  },
  {
   "cell_type": "code",
   "execution_count": 5,
   "metadata": {},
   "outputs": [],
   "source": [
    "from binascii import hexlify, unhexlify\n",
    "from Cryptodome.Random import get_random_bytes\n",
    "from Cryptodome.Protocol.SecretSharing import Shamir"
   ]
  },
  {
   "cell_type": "markdown",
   "metadata": {},
   "source": [
    "The Shamir scheme can be implemented over the Galois Field $GF(2^{128})$"
   ]
  },
  {
   "cell_type": "code",
   "execution_count": 6,
   "metadata": {},
   "outputs": [
    {
     "data": {
      "text/plain": [
       "b'd4b6082a40bf3afdc7966fe3f07d55a2'"
      ]
     },
     "execution_count": 6,
     "metadata": {},
     "output_type": "execute_result"
    }
   ],
   "source": [
    "# Generate a random secret\n",
    "secret = get_random_bytes(16)\n",
    "hexlify(secret)"
   ]
  },
  {
   "cell_type": "code",
   "execution_count": 7,
   "metadata": {},
   "outputs": [],
   "source": [
    "# Now split the shares\n",
    "t = 2\n",
    "w = 5\n",
    "shares = Shamir.split(t, w, secret)"
   ]
  },
  {
   "cell_type": "code",
   "execution_count": 8,
   "metadata": {
    "scrolled": true
   },
   "outputs": [
    {
     "name": "stdout",
     "output_type": "stream",
     "text": [
      "x = 1, y = b'e7604b595742a386f1dbbd5019eea2eb'\n",
      "x = 2, y = b'b31a8ecc6f44080bab0dca84235abb30'\n",
      "x = 3, y = b'80cccdbf78b991709d401837cac94c79'\n",
      "x = 4, y = b'1bef05e61f495f111ea1252c56328886'\n",
      "x = 5, y = b'2839469508b4c66a28ecf79fbfa17fcf'\n"
     ]
    }
   ],
   "source": [
    "# Now print the shares\n",
    "for idx, share in shares:\n",
    "    print(\"x = %d, y = %s\" % (idx, hexlify(share)) )"
   ]
  },
  {
   "cell_type": "code",
   "execution_count": 9,
   "metadata": {},
   "outputs": [
    {
     "data": {
      "text/plain": [
       "b'd4b6082a40bf3afdc7966fe3f07d55a2'"
      ]
     },
     "execution_count": 9,
     "metadata": {},
     "output_type": "execute_result"
    }
   ],
   "source": [
    "# Pick two shares (e.g. 2 and 4)\n",
    "available = [ shares[1], shares[3] ]\n",
    "hexlify( Shamir.combine(available) )"
   ]
  },
  {
   "cell_type": "code",
   "execution_count": 10,
   "metadata": {},
   "outputs": [
    {
     "data": {
      "text/plain": [
       "b'b31a8ecc6f44080bab0dca84235abb30'"
      ]
     },
     "execution_count": 10,
     "metadata": {},
     "output_type": "execute_result"
    }
   ],
   "source": [
    "# if we use only one share\n",
    "available = [ shares[1] ]\n",
    "hexlify( Shamir.combine(available) )"
   ]
  },
  {
   "cell_type": "markdown",
   "metadata": {},
   "source": [
    "# Lab work\n",
    "\n",
    "We have the following shares with $t = 2$.\n",
    "Are there any wrong shares? Which ones?"
   ]
  },
  {
   "cell_type": "code",
   "execution_count": 11,
   "metadata": {},
   "outputs": [],
   "source": [
    "hexshares = [(1, b'ce9e5ad55b4c7d13389238afee6d1911'),\n",
    " (2, b'0563b1a58880f544769690f3d6ab1757'),\n",
    " (3, b'43c8e88a39c48d76b36af7383ee91295'),\n",
    " (4, b'929867442f19efeaea9fc04ba7270b5c'),#\n",
    " (5, b'd4333e6b9e5d9dd82f63a7804f650e9e')]"
   ]
  },
  {
   "cell_type": "code",
   "execution_count": 12,
   "metadata": {},
   "outputs": [],
   "source": [
    "shares = [(x,unhexlify(y)) for x,y in hexshares]"
   ]
  },
  {
   "cell_type": "code",
   "execution_count": 13,
   "metadata": {},
   "outputs": [
    {
     "name": "stdout",
     "output_type": "stream",
     "text": [
      "1-2: b'883503faea080521fd6e5f64062f1cd3'\n",
      "1-3: b'883503faea080521fd6e5f64062f1cd3'\n",
      "1-4: b'883503faea080721fd6e5f64062f1cd3'\n",
      "1-5: b'883503faea080521fd6e5f64062f1cd3'\n",
      "2-3: b'883503faea080521fd6e5f64062f1cd3'\n",
      "2-4: b'883503faea080321fd6e5f64062f1cd3'\n",
      "2-5: b'883503faea080521fd6e5f64062f1cd3'\n",
      "3-4: b'5358b52187beda972603e9bf6b99c7d1'\n",
      "3-5: b'883503faea080521fd6e5f64062f1cd3'\n",
      "4-5: b'883503faea082721fd6e5f64062f1cd3'\n"
     ]
    }
   ],
   "source": [
    "result = {}\n",
    "indexes = []\n",
    "for i in range(len(shares)):\n",
    "    for j in range(i+1, len(shares)):\n",
    "        available = [shares[i], shares[j]]\n",
    "        print(\"%d-%d: %s\" % (i+1, j+1, hexlify(Shamir.combine(available))))\n",
    "        result[str(i+1)+str(j+1)] = hexlify(Shamir.combine(available))"
   ]
  },
  {
   "cell_type": "code",
   "execution_count": 14,
   "metadata": {},
   "outputs": [
    {
     "name": "stdout",
     "output_type": "stream",
     "text": [
      "{'4'}\n"
     ]
    }
   ],
   "source": [
    "freq = max(list(result.values()), key=list(result.values()).count)\n",
    "wrong = [k for k,v in result.items() if v != freq]\n",
    "common = set.intersection(*map(set,wrong))\n",
    "print(common) # ap"
   ]
  }
 ],
 "metadata": {
  "kernelspec": {
   "display_name": "Python 3 (ipykernel)",
   "language": "python",
   "name": "python3"
  },
  "language_info": {
   "codemirror_mode": {
    "name": "ipython",
    "version": 3
   },
   "file_extension": ".py",
   "mimetype": "text/x-python",
   "name": "python",
   "nbconvert_exporter": "python",
   "pygments_lexer": "ipython3",
   "version": "3.9.7"
  }
 },
 "nbformat": 4,
 "nbformat_minor": 2
}
